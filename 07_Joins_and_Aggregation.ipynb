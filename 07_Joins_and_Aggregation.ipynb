{
 "cells": [
  {
   "cell_type": "markdown",
   "metadata": {},
   "source": [
    "# Lesson 7. Attribute and Spatial Joins\n",
    "\n",
    "Now that we understand the logic of spatial relationship queries,\n",
    "let's take a look at another fundamental spatial operation that relies on them.\n",
    "\n",
    "This operation, called a **spatial join**, is the process by which we can\n",
    "leverage the spatial relationships between distinct datasets to merge\n",
    "their information into a new, synthetic dataset.\n",
    "\n",
    "This operation can be thought as the spatial equivalent of an\n",
    "**attribute join**, in which multiple tabular datasets can be merged by\n",
    "aligning matching values in a common column that they both contain.\n",
    "Thus, we'll start by developing an understanding of this operation first!\n",
    "\n",
    "- 7.0 Data Input and Prep\n",
    "- 7.1 Attribute Joins\n",
    "- **Exercise**: Choropleth Map\n",
    "- 7.2 Spatial Joins\n",
    "- 7.3 Aggregation\n",
    "- **Exercise**: Aggregation\n",
    "- 7.4 Recap\n",
    "\n",
    "<br>\n",
    "<font color='grey'>\n",
    "\n",
    "**Instructor Notes**\n",
    "\n",
    "- Datasets used\n",
    "    - California American Community Survey (ACS) data for 2018 from the United States Census Bureau by tract ('notebook_data/census/ACS5yr/census_variables_CA.csv') (developer note: could use updating at a later date)\n",
    "    - California census tract cartographic [boundaries](https://www2.census.gov/geo/tiger/GENZ2019/shp/cb_2019_06_tract_500k.zip) for 2019 from the United States Census Bureau ('notebook_data/census/Tracts/cb_2019_06_tract_500k.zip')\n",
    "    - Alameda County schools ('notebook_data/alco_schools.csv')\n",
    "    \n",
    "- Expected time to complete\n",
    "    - Lecture and questions: 45 minutes\n",
    "    - Exercises: 20 minutes\n",
    "</font>"
   ]
  },
  {
   "cell_type": "code",
   "execution_count": 1,
   "metadata": {},
   "outputs": [],
   "source": [
    "import pandas as pd\n",
    "import geopandas as gpd\n",
    "\n",
    "import matplotlib # base python plotting library\n",
    "import matplotlib.pyplot as plt # submodule of matplotlib\n",
    "\n",
    "# To display plots, maps, charts etc in the notebook\n",
    "%matplotlib inline  "
   ]
  },
  {
   "cell_type": "markdown",
   "metadata": {},
   "source": [
    "# 7.0 Data Input and Prep"
   ]
  },
  {
   "cell_type": "markdown",
   "metadata": {},
   "source": [
    "Let's read in a table of data from the United States Census 5-year American Community Survey (ACS5)."
   ]
  },
  {
   "cell_type": "code",
   "execution_count": 2,
   "metadata": {},
   "outputs": [
    {
     "data": {
      "text/html": [
       "<div>\n",
       "<style scoped>\n",
       "    .dataframe tbody tr th:only-of-type {\n",
       "        vertical-align: middle;\n",
       "    }\n",
       "\n",
       "    .dataframe tbody tr th {\n",
       "        vertical-align: top;\n",
       "    }\n",
       "\n",
       "    .dataframe thead th {\n",
       "        text-align: right;\n",
       "    }\n",
       "</style>\n",
       "<table border=\"1\" class=\"dataframe\">\n",
       "  <thead>\n",
       "    <tr style=\"text-align: right;\">\n",
       "      <th></th>\n",
       "      <th>NAME</th>\n",
       "      <th>c_race</th>\n",
       "      <th>c_white</th>\n",
       "      <th>c_black</th>\n",
       "      <th>c_asian</th>\n",
       "      <th>c_latinx</th>\n",
       "      <th>c_race_moe</th>\n",
       "      <th>c_white_moe</th>\n",
       "      <th>c_black_moe</th>\n",
       "      <th>c_asian_moe</th>\n",
       "      <th>...</th>\n",
       "      <th>p_stay</th>\n",
       "      <th>p_movelocal</th>\n",
       "      <th>p_movecounty</th>\n",
       "      <th>p_movestate</th>\n",
       "      <th>p_moveabroad</th>\n",
       "      <th>p_car</th>\n",
       "      <th>p_carpool</th>\n",
       "      <th>p_transit</th>\n",
       "      <th>p_bike</th>\n",
       "      <th>p_walk</th>\n",
       "    </tr>\n",
       "  </thead>\n",
       "  <tbody>\n",
       "    <tr>\n",
       "      <th>0</th>\n",
       "      <td>Census Tract 4012, Alameda County, California</td>\n",
       "      <td>2456</td>\n",
       "      <td>1287</td>\n",
       "      <td>476</td>\n",
       "      <td>259</td>\n",
       "      <td>283</td>\n",
       "      <td>213</td>\n",
       "      <td>191</td>\n",
       "      <td>116</td>\n",
       "      <td>124</td>\n",
       "      <td>...</td>\n",
       "      <td>0.814951</td>\n",
       "      <td>0.103350</td>\n",
       "      <td>0.058415</td>\n",
       "      <td>0.010212</td>\n",
       "      <td>0.013072</td>\n",
       "      <td>0.551370</td>\n",
       "      <td>0.064384</td>\n",
       "      <td>0.189041</td>\n",
       "      <td>0.083562</td>\n",
       "      <td>0.058219</td>\n",
       "    </tr>\n",
       "    <tr>\n",
       "      <th>1</th>\n",
       "      <td>Census Tract 4013, Alameda County, California</td>\n",
       "      <td>3983</td>\n",
       "      <td>845</td>\n",
       "      <td>1348</td>\n",
       "      <td>827</td>\n",
       "      <td>796</td>\n",
       "      <td>680</td>\n",
       "      <td>186</td>\n",
       "      <td>411</td>\n",
       "      <td>283</td>\n",
       "      <td>...</td>\n",
       "      <td>0.611865</td>\n",
       "      <td>0.280040</td>\n",
       "      <td>0.063348</td>\n",
       "      <td>0.022624</td>\n",
       "      <td>0.022122</td>\n",
       "      <td>0.341153</td>\n",
       "      <td>0.108993</td>\n",
       "      <td>0.391496</td>\n",
       "      <td>0.018084</td>\n",
       "      <td>0.104594</td>\n",
       "    </tr>\n",
       "    <tr>\n",
       "      <th>2</th>\n",
       "      <td>Census Tract 4014, Alameda County, California</td>\n",
       "      <td>4340</td>\n",
       "      <td>713</td>\n",
       "      <td>1902</td>\n",
       "      <td>593</td>\n",
       "      <td>981</td>\n",
       "      <td>644</td>\n",
       "      <td>314</td>\n",
       "      <td>440</td>\n",
       "      <td>198</td>\n",
       "      <td>...</td>\n",
       "      <td>0.807683</td>\n",
       "      <td>0.163739</td>\n",
       "      <td>0.017803</td>\n",
       "      <td>0.006325</td>\n",
       "      <td>0.004451</td>\n",
       "      <td>0.470846</td>\n",
       "      <td>0.021317</td>\n",
       "      <td>0.255799</td>\n",
       "      <td>0.116614</td>\n",
       "      <td>0.102194</td>\n",
       "    </tr>\n",
       "    <tr>\n",
       "      <th>3</th>\n",
       "      <td>Census Tract 4015, Alameda County, California</td>\n",
       "      <td>2080</td>\n",
       "      <td>563</td>\n",
       "      <td>1064</td>\n",
       "      <td>215</td>\n",
       "      <td>190</td>\n",
       "      <td>369</td>\n",
       "      <td>222</td>\n",
       "      <td>283</td>\n",
       "      <td>116</td>\n",
       "      <td>...</td>\n",
       "      <td>0.841346</td>\n",
       "      <td>0.101442</td>\n",
       "      <td>0.053846</td>\n",
       "      <td>0.003365</td>\n",
       "      <td>0.000000</td>\n",
       "      <td>0.502037</td>\n",
       "      <td>0.090631</td>\n",
       "      <td>0.230143</td>\n",
       "      <td>0.047862</td>\n",
       "      <td>0.017312</td>\n",
       "    </tr>\n",
       "    <tr>\n",
       "      <th>4</th>\n",
       "      <td>Census Tract 4016, Alameda County, California</td>\n",
       "      <td>1889</td>\n",
       "      <td>324</td>\n",
       "      <td>960</td>\n",
       "      <td>247</td>\n",
       "      <td>274</td>\n",
       "      <td>400</td>\n",
       "      <td>135</td>\n",
       "      <td>376</td>\n",
       "      <td>164</td>\n",
       "      <td>...</td>\n",
       "      <td>0.830645</td>\n",
       "      <td>0.079570</td>\n",
       "      <td>0.082258</td>\n",
       "      <td>0.002151</td>\n",
       "      <td>0.005376</td>\n",
       "      <td>0.570481</td>\n",
       "      <td>0.122720</td>\n",
       "      <td>0.177446</td>\n",
       "      <td>0.063018</td>\n",
       "      <td>0.000000</td>\n",
       "    </tr>\n",
       "  </tbody>\n",
       "</table>\n",
       "<p>5 rows × 66 columns</p>\n",
       "</div>"
      ],
      "text/plain": [
       "                                            NAME  c_race  c_white  c_black  \\\n",
       "0  Census Tract 4012, Alameda County, California    2456     1287      476   \n",
       "1  Census Tract 4013, Alameda County, California    3983      845     1348   \n",
       "2  Census Tract 4014, Alameda County, California    4340      713     1902   \n",
       "3  Census Tract 4015, Alameda County, California    2080      563     1064   \n",
       "4  Census Tract 4016, Alameda County, California    1889      324      960   \n",
       "\n",
       "   c_asian  c_latinx  c_race_moe  c_white_moe  c_black_moe  c_asian_moe  ...  \\\n",
       "0      259       283         213          191          116          124  ...   \n",
       "1      827       796         680          186          411          283  ...   \n",
       "2      593       981         644          314          440          198  ...   \n",
       "3      215       190         369          222          283          116  ...   \n",
       "4      247       274         400          135          376          164  ...   \n",
       "\n",
       "     p_stay  p_movelocal  p_movecounty  p_movestate  p_moveabroad     p_car  \\\n",
       "0  0.814951     0.103350      0.058415     0.010212      0.013072  0.551370   \n",
       "1  0.611865     0.280040      0.063348     0.022624      0.022122  0.341153   \n",
       "2  0.807683     0.163739      0.017803     0.006325      0.004451  0.470846   \n",
       "3  0.841346     0.101442      0.053846     0.003365      0.000000  0.502037   \n",
       "4  0.830645     0.079570      0.082258     0.002151      0.005376  0.570481   \n",
       "\n",
       "   p_carpool  p_transit    p_bike    p_walk  \n",
       "0   0.064384   0.189041  0.083562  0.058219  \n",
       "1   0.108993   0.391496  0.018084  0.104594  \n",
       "2   0.021317   0.255799  0.116614  0.102194  \n",
       "3   0.090631   0.230143  0.047862  0.017312  \n",
       "4   0.122720   0.177446  0.063018  0.000000  \n",
       "\n",
       "[5 rows x 66 columns]"
      ]
     },
     "execution_count": 2,
     "metadata": {},
     "output_type": "execute_result"
    }
   ],
   "source": [
    "# Read in the ACS5 data for CA into a pandas DataFrame.\n",
    "# Note: We force the FIPS_11_digit to be read in as a string to preserve any leading zeroes.\n",
    "acs5_df = pd.read_csv(\"notebook_data/census/ACS5yr/census_variables_CA.csv\", dtype={'FIPS_11_digit':str})\n",
    "acs5_df.head()\n"
   ]
  },
  {
   "cell_type": "markdown",
   "metadata": {},
   "source": [
    "**Brief summary of the data**:\n",
    "\n",
    "Below is a table of the variables in this table. They were combined from \n",
    "different ACS 5 year tables.\n",
    "\n",
    "<u>NOTE</u>:\n",
    "- variables that start with `c_` are counts\n",
    "- variables that start with `med_` are medians\n",
    "- variables that end in `_moe` are margin of error estimates\n",
    "- variables that start with `_p` are proportions calcuated from the counts divided by the table denominator (the total count for whom that variable was assessed)\n",
    "\n",
    "\n",
    "| Variable        | Description                                     |\n",
    "|-----------------|-------------------------------------------------|\n",
    "|`c_race`         |Total population                                 \n",
    "|`c_white`        |Total white non-Latinx\n",
    "| `c_black`       | Total black and African American non-Latinx\n",
    "| `c_asian`       | Total Asian non-Latinx\n",
    "| `c_latinx`      | Total Latinx\n",
    "| `state_fips`    | State level FIPS code\n",
    "| `county_fips`   | County level FIPS code\n",
    "| `tract_fips`    |Tracts level FIPS code\n",
    "| `med_rent`      |Median rent\n",
    "| `med_hhinc`     |Median household income\n",
    "| `c_tenants`     |Total tenants\n",
    "| `c_owners`      |Total owners\n",
    "| `c_renters`     |Total renters\n",
    "| `c_movers`      |Total number of people who moved\n",
    "| `c_stay`        |Total number of people who stayed\n",
    "| `c_movelocal`   |Number of people who moved locally\n",
    "| `c_movecounty`  |Number of people who moved counties\n",
    "| `c_movestate`   | Number of people who moved states\n",
    "| `c_moveabroad`  |Number of people who moved abroad\n",
    "| `c_commute`     |Total number of commuters\n",
    "| `c_car`         | Number of commuters who use a car\n",
    "| `c_carpool`     | Number of commuters who carpool\n",
    "| `c_transit`     |Number of commuters who use public transit\n",
    "| `c_bike`        |Number of commuters who bike\n",
    "| `c_walk`        |Number of commuters who bike\n",
    "| `year`          | ACS data year\n",
    "| `FIPS_11_digit` | 11-digit FIPS code\n"
   ]
  },
  {
   "cell_type": "markdown",
   "metadata": {},
   "source": [
    "We're going to drop all of our `moe` columns by identifying all of those that end with `_moe`. We can do that in two steps, first by using `filter` to identify columns that contain the string `_moe`."
   ]
  },
  {
   "cell_type": "code",
   "execution_count": 3,
   "metadata": {},
   "outputs": [
    {
     "data": {
      "text/plain": [
       "Index(['c_race_moe', 'c_white_moe', 'c_black_moe', 'c_asian_moe',\n",
       "       'c_latinx_moe', 'med_rent_moe', 'med_hhinc_moe', 'c_tenants_moe',\n",
       "       'c_owners_moe', 'c_renters_moe', 'c_movers_moe', 'c_stay_moe',\n",
       "       'c_movelocal_moe', 'c_movecounty_moe', 'c_movestate_moe',\n",
       "       'c_moveabroad_moe', 'c_commute_moe', 'c_car_moe', 'c_carpool_moe',\n",
       "       'c_transit_moe', 'c_bike_moe', 'c_walk_moe'],\n",
       "      dtype='object')"
      ]
     },
     "execution_count": 3,
     "metadata": {},
     "output_type": "execute_result"
    }
   ],
   "source": [
    "moe_cols = acs5_df.filter(like='_moe',axis=1).columns\n",
    "moe_cols"
   ]
  },
  {
   "cell_type": "code",
   "execution_count": 4,
   "metadata": {},
   "outputs": [],
   "source": [
    "acs5_df.drop(moe_cols, axis=1, inplace=True)"
   ]
  },
  {
   "cell_type": "markdown",
   "metadata": {},
   "source": [
    "And lastly, let's grab only the rows for year 2018 and county FIPS code 1 (i.e. Alameda County)"
   ]
  },
  {
   "cell_type": "code",
   "execution_count": 5,
   "metadata": {},
   "outputs": [],
   "source": [
    "acs5_df_ac = acs5_df[(acs5_df['year']==2018) & (acs5_df['county_fips']==1)]"
   ]
  },
  {
   "cell_type": "markdown",
   "metadata": {},
   "source": [
    "---------------------------------\n",
    "Now let's also read in our census tracts again!"
   ]
  },
  {
   "cell_type": "code",
   "execution_count": 6,
   "metadata": {},
   "outputs": [],
   "source": [
    "tracts_gdf = gpd.read_file(\"zip://notebook_data/census/Tracts/cb_2019_06_tract_500k.zip\")"
   ]
  },
  {
   "cell_type": "code",
   "execution_count": 7,
   "metadata": {},
   "outputs": [
    {
     "data": {
      "text/html": [
       "<div>\n",
       "<style scoped>\n",
       "    .dataframe tbody tr th:only-of-type {\n",
       "        vertical-align: middle;\n",
       "    }\n",
       "\n",
       "    .dataframe tbody tr th {\n",
       "        vertical-align: top;\n",
       "    }\n",
       "\n",
       "    .dataframe thead th {\n",
       "        text-align: right;\n",
       "    }\n",
       "</style>\n",
       "<table border=\"1\" class=\"dataframe\">\n",
       "  <thead>\n",
       "    <tr style=\"text-align: right;\">\n",
       "      <th></th>\n",
       "      <th>STATEFP</th>\n",
       "      <th>COUNTYFP</th>\n",
       "      <th>TRACTCE</th>\n",
       "      <th>AFFGEOID</th>\n",
       "      <th>GEOID</th>\n",
       "      <th>NAME</th>\n",
       "      <th>LSAD</th>\n",
       "      <th>ALAND</th>\n",
       "      <th>AWATER</th>\n",
       "      <th>geometry</th>\n",
       "    </tr>\n",
       "  </thead>\n",
       "  <tbody>\n",
       "    <tr>\n",
       "      <th>0</th>\n",
       "      <td>06</td>\n",
       "      <td>013</td>\n",
       "      <td>370000</td>\n",
       "      <td>1400000US06013370000</td>\n",
       "      <td>06013370000</td>\n",
       "      <td>3700</td>\n",
       "      <td>CT</td>\n",
       "      <td>999356</td>\n",
       "      <td>0</td>\n",
       "      <td>POLYGON ((-122.32697 37.93502, -122.32610 37.9...</td>\n",
       "    </tr>\n",
       "    <tr>\n",
       "      <th>1</th>\n",
       "      <td>06</td>\n",
       "      <td>001</td>\n",
       "      <td>442301</td>\n",
       "      <td>1400000US06001442301</td>\n",
       "      <td>06001442301</td>\n",
       "      <td>4423.01</td>\n",
       "      <td>CT</td>\n",
       "      <td>1429049</td>\n",
       "      <td>0</td>\n",
       "      <td>POLYGON ((-121.97010 37.53047, -121.96894 37.5...</td>\n",
       "    </tr>\n",
       "    <tr>\n",
       "      <th>2</th>\n",
       "      <td>06</td>\n",
       "      <td>037</td>\n",
       "      <td>405101</td>\n",
       "      <td>1400000US06037405101</td>\n",
       "      <td>06037405101</td>\n",
       "      <td>4051.01</td>\n",
       "      <td>CT</td>\n",
       "      <td>1121229</td>\n",
       "      <td>0</td>\n",
       "      <td>POLYGON ((-117.96926 34.09945, -117.96489 34.0...</td>\n",
       "    </tr>\n",
       "    <tr>\n",
       "      <th>3</th>\n",
       "      <td>06</td>\n",
       "      <td>037</td>\n",
       "      <td>199800</td>\n",
       "      <td>1400000US06037199800</td>\n",
       "      <td>06037199800</td>\n",
       "      <td>1998</td>\n",
       "      <td>CT</td>\n",
       "      <td>651258</td>\n",
       "      <td>0</td>\n",
       "      <td>POLYGON ((-118.21562 34.07364, -118.21036 34.0...</td>\n",
       "    </tr>\n",
       "    <tr>\n",
       "      <th>4</th>\n",
       "      <td>06</td>\n",
       "      <td>037</td>\n",
       "      <td>291300</td>\n",
       "      <td>1400000US06037291300</td>\n",
       "      <td>06037291300</td>\n",
       "      <td>2913</td>\n",
       "      <td>CT</td>\n",
       "      <td>2353751</td>\n",
       "      <td>45836</td>\n",
       "      <td>POLYGON ((-118.30915 33.86198, -118.30915 33.8...</td>\n",
       "    </tr>\n",
       "  </tbody>\n",
       "</table>\n",
       "</div>"
      ],
      "text/plain": [
       "  STATEFP COUNTYFP TRACTCE              AFFGEOID        GEOID     NAME LSAD  \\\n",
       "0      06      013  370000  1400000US06013370000  06013370000     3700   CT   \n",
       "1      06      001  442301  1400000US06001442301  06001442301  4423.01   CT   \n",
       "2      06      037  405101  1400000US06037405101  06037405101  4051.01   CT   \n",
       "3      06      037  199800  1400000US06037199800  06037199800     1998   CT   \n",
       "4      06      037  291300  1400000US06037291300  06037291300     2913   CT   \n",
       "\n",
       "     ALAND  AWATER                                           geometry  \n",
       "0   999356       0  POLYGON ((-122.32697 37.93502, -122.32610 37.9...  \n",
       "1  1429049       0  POLYGON ((-121.97010 37.53047, -121.96894 37.5...  \n",
       "2  1121229       0  POLYGON ((-117.96926 34.09945, -117.96489 34.0...  \n",
       "3   651258       0  POLYGON ((-118.21562 34.07364, -118.21036 34.0...  \n",
       "4  2353751   45836  POLYGON ((-118.30915 33.86198, -118.30915 33.8...  "
      ]
     },
     "execution_count": 7,
     "metadata": {},
     "output_type": "execute_result"
    }
   ],
   "source": [
    "tracts_gdf.head()"
   ]
  },
  {
   "cell_type": "code",
   "execution_count": 8,
   "metadata": {},
   "outputs": [
    {
     "data": {
      "image/png": "[encoded data removed]",
      "text/plain": [
       "<Figure size 432x288 with 1 Axes>"
      ]
     },
     "metadata": {
      "needs_background": "light"
     },
     "output_type": "display_data"
    }
   ],
   "source": [
    "tracts_gdf_ac = tracts_gdf[tracts_gdf['COUNTYFP']=='001']\n",
    "tracts_gdf_ac.plot()\n",
    "plt.show()"
   ]
  },
  {
   "cell_type": "markdown",
   "metadata": {},
   "source": [
    "# 7.1 Attribute Joins\n",
    "\n",
    "**Attribute Joins  between Geodataframes and  Dataframes**\n",
    "\n",
    "*We just mapped the census tracts. But what makes a map powerful is when you map the data associated with the locations.*\n",
    "\n",
    "- `tracts_gdf_ac`: These are polygon data in a GeoDataFrame. However, as we saw in the `head` of that dataset, they no attributes of interest!\n",
    "\n",
    "- `acs5_df_ac`: These are 2018 ACS data from a CSV file ('census_variables_CA.csv'), imported and read in as a `pandas` DataFrame. However, they have no geometries!\n",
    "\n",
    "In order to map the ACS data we need to associate it with the tracts. Let's do that now, by joining the columns from `acs5_df_ac` to the columns of `tracts_gdf_ac` using a common column as the key for matching rows. This process is called an **attribute join**.\n",
    "\n",
    "\n",
    "\n",
    "\n"
   ]
  },
  {
   "cell_type": "markdown",
   "metadata": {},
   "source": [
    "--------------------------\n",
    "\n",
    "<img src=\"https://shanelynnwebsite-mid9n9g1q9y8tt.netdna-ssl.com/wp-content/uploads/2017/03/join-types-merge-names.jpg\">\n",
    "\n",
    "\n",
    "<div style=\"display:inline-block;vertical-align:top;\">\n",
    "    <img src=\"http://www.pngall.com/wp-content/uploads/2016/03/Light-Bulb-Free-PNG-Image.png\" width=\"30\" align=left > \n",
    "</div>  \n",
    "<div style=\"display:inline-block;\">\n",
    "\n",
    "#### Question\n",
    "</div>\n",
    "\n",
    "The image above gives us a nice conceptual summary of the types of joins we could run.\n",
    "\n",
    "1. In general, why might we choose one type of join over another?\n",
    "1. In our case, do we want an inner, left, right, or outer (AKA 'full') join? \n",
    "\n",
    "(**NOTE**: You can read more about merging in `geopandas` [here](http://geopandas.org/mergingdata.html#attribute-joins).)"
   ]
  },
  {
   "cell_type": "raw",
   "metadata": {},
   "source": [
    "Your responses here:\n",
    "\n",
    "\n",
    "\n",
    "\n",
    "\n"
   ]
  },
  {
   "cell_type": "markdown",
   "metadata": {},
   "source": [
    "Okay, here we go!\n",
    "\n",
    "Let's take a look at the common column in both our DataFrames.\n"
   ]
  },
  {
   "cell_type": "code",
   "execution_count": 9,
   "metadata": {},
   "outputs": [
    {
     "data": {
      "text/plain": [
       "1      06001442301\n",
       "72     06001437400\n",
       "113    06001437701\n",
       "119    06001402400\n",
       "120    06001402500\n",
       "Name: GEOID, dtype: object"
      ]
     },
     "execution_count": 9,
     "metadata": {},
     "output_type": "execute_result"
    }
   ],
   "source": [
    "tracts_gdf_ac['GEOID'].head()"
   ]
  },
  {
   "cell_type": "code",
   "execution_count": 10,
   "metadata": {},
   "outputs": [
    {
     "data": {
      "text/plain": [
       "8323    06001441501\n",
       "8324    06001404700\n",
       "8325    06001442500\n",
       "8326    06001450300\n",
       "8327    06001450607\n",
       "Name: FIPS_11_digit, dtype: object"
      ]
     },
     "execution_count": 10,
     "metadata": {},
     "output_type": "execute_result"
    }
   ],
   "source": [
    "acs5_df_ac['FIPS_11_digit'].head()"
   ]
  },
  {
   "cell_type": "markdown",
   "metadata": {},
   "source": [
    "\n",
    "Note that they are **not named the same thing**. \n",
    "        \n",
    "        That's okay! We just need to know that they contain the same information.\n",
    "\n",
    "Also note that they are **not in the same order**. \n",
    "        \n",
    "        That's not only okay... That's the point! (If they were in the same order already then we could just join them side by side, without having Python find and line up the matching rows from each!)"
   ]
  },
  {
   "cell_type": "markdown",
   "metadata": {},
   "source": [
    "-------------------------------\n",
    "\n",
    "Let's do a `left` join to keep all of the census tracts in Alameda County and only the ACS data for those tracts.\n",
    "\n",
    "**NOTE**: To figure out how to do this we could always take a peek at the documentation by calling\n",
    "`?tracts_gdf_ac.merge`, or `help(tracts_gdf_ac)`."
   ]
  },
  {
   "cell_type": "code",
   "execution_count": 11,
   "metadata": {},
   "outputs": [
    {
     "data": {
      "text/html": [
       "<div>\n",
       "<style scoped>\n",
       "    .dataframe tbody tr th:only-of-type {\n",
       "        vertical-align: middle;\n",
       "    }\n",
       "\n",
       "    .dataframe tbody tr th {\n",
       "        vertical-align: top;\n",
       "    }\n",
       "\n",
       "    .dataframe thead th {\n",
       "        text-align: right;\n",
       "    }\n",
       "</style>\n",
       "<table border=\"1\" class=\"dataframe\">\n",
       "  <thead>\n",
       "    <tr style=\"text-align: right;\">\n",
       "      <th></th>\n",
       "      <th>STATEFP</th>\n",
       "      <th>COUNTYFP</th>\n",
       "      <th>TRACTCE</th>\n",
       "      <th>AFFGEOID</th>\n",
       "      <th>GEOID</th>\n",
       "      <th>NAME_x</th>\n",
       "      <th>LSAD</th>\n",
       "      <th>ALAND</th>\n",
       "      <th>AWATER</th>\n",
       "      <th>geometry</th>\n",
       "      <th>...</th>\n",
       "      <th>p_stay</th>\n",
       "      <th>p_movelocal</th>\n",
       "      <th>p_movecounty</th>\n",
       "      <th>p_movestate</th>\n",
       "      <th>p_moveabroad</th>\n",
       "      <th>p_car</th>\n",
       "      <th>p_carpool</th>\n",
       "      <th>p_transit</th>\n",
       "      <th>p_bike</th>\n",
       "      <th>p_walk</th>\n",
       "    </tr>\n",
       "  </thead>\n",
       "  <tbody>\n",
       "    <tr>\n",
       "      <th>0</th>\n",
       "      <td>06</td>\n",
       "      <td>001</td>\n",
       "      <td>442301</td>\n",
       "      <td>1400000US06001442301</td>\n",
       "      <td>06001442301</td>\n",
       "      <td>4423.01</td>\n",
       "      <td>CT</td>\n",
       "      <td>1429049</td>\n",
       "      <td>0</td>\n",
       "      <td>POLYGON ((-121.97010 37.53047, -121.96894 37.5...</td>\n",
       "      <td>...</td>\n",
       "      <td>0.922851</td>\n",
       "      <td>0.051890</td>\n",
       "      <td>0.015861</td>\n",
       "      <td>0.002154</td>\n",
       "      <td>0.007245</td>\n",
       "      <td>0.698266</td>\n",
       "      <td>0.136416</td>\n",
       "      <td>0.059538</td>\n",
       "      <td>0.019653</td>\n",
       "      <td>0.032948</td>\n",
       "    </tr>\n",
       "    <tr>\n",
       "      <th>1</th>\n",
       "      <td>06</td>\n",
       "      <td>001</td>\n",
       "      <td>437400</td>\n",
       "      <td>1400000US06001437400</td>\n",
       "      <td>06001437400</td>\n",
       "      <td>4374</td>\n",
       "      <td>CT</td>\n",
       "      <td>858407</td>\n",
       "      <td>0</td>\n",
       "      <td>POLYGON ((-122.09256 37.64720, -122.09030 37.6...</td>\n",
       "      <td>...</td>\n",
       "      <td>0.953878</td>\n",
       "      <td>0.028152</td>\n",
       "      <td>0.016771</td>\n",
       "      <td>0.000000</td>\n",
       "      <td>0.001198</td>\n",
       "      <td>0.797441</td>\n",
       "      <td>0.078891</td>\n",
       "      <td>0.043355</td>\n",
       "      <td>0.012793</td>\n",
       "      <td>0.009950</td>\n",
       "    </tr>\n",
       "  </tbody>\n",
       "</table>\n",
       "<p>2 rows × 54 columns</p>\n",
       "</div>"
      ],
      "text/plain": [
       "  STATEFP COUNTYFP TRACTCE              AFFGEOID        GEOID   NAME_x LSAD  \\\n",
       "0      06      001  442301  1400000US06001442301  06001442301  4423.01   CT   \n",
       "1      06      001  437400  1400000US06001437400  06001437400     4374   CT   \n",
       "\n",
       "     ALAND  AWATER                                           geometry  ...  \\\n",
       "0  1429049       0  POLYGON ((-121.97010 37.53047, -121.96894 37.5...  ...   \n",
       "1   858407       0  POLYGON ((-122.09256 37.64720, -122.09030 37.6...  ...   \n",
       "\n",
       "     p_stay  p_movelocal  p_movecounty  p_movestate  p_moveabroad     p_car  \\\n",
       "0  0.922851     0.051890      0.015861     0.002154      0.007245  0.698266   \n",
       "1  0.953878     0.028152      0.016771     0.000000      0.001198  0.797441   \n",
       "\n",
       "   p_carpool  p_transit    p_bike    p_walk  \n",
       "0   0.136416   0.059538  0.019653  0.032948  \n",
       "1   0.078891   0.043355  0.012793  0.009950  \n",
       "\n",
       "[2 rows x 54 columns]"
      ]
     },
     "execution_count": 11,
     "metadata": {},
     "output_type": "execute_result"
    }
   ],
   "source": [
    "# Left join keeps all tracts and the acs data for those tracts\n",
    "tracts_acs_gdf_ac = tracts_gdf_ac.merge(acs5_df_ac, left_on='GEOID',\n",
    "                                        right_on=\"FIPS_11_digit\", how='left')\n",
    "tracts_acs_gdf_ac.head(2)"
   ]
  },
  {
   "cell_type": "markdown",
   "metadata": {},
   "source": [
    "Let's check that we have all the variables we have in our dataset now."
   ]
  },
  {
   "cell_type": "code",
   "execution_count": 12,
   "metadata": {},
   "outputs": [
    {
     "data": {
      "text/plain": [
       "['STATEFP',\n",
       " 'COUNTYFP',\n",
       " 'TRACTCE',\n",
       " 'AFFGEOID',\n",
       " 'GEOID',\n",
       " 'NAME_x',\n",
       " 'LSAD',\n",
       " 'ALAND',\n",
       " 'AWATER',\n",
       " 'geometry',\n",
       " 'NAME_y',\n",
       " 'c_race',\n",
       " 'c_white',\n",
       " 'c_black',\n",
       " 'c_asian',\n",
       " 'c_latinx',\n",
       " 'state_fips',\n",
       " 'county_fips',\n",
       " 'tract_fips',\n",
       " 'med_rent',\n",
       " 'med_hhinc',\n",
       " 'c_tenants',\n",
       " 'c_owners',\n",
       " 'c_renters',\n",
       " 'c_movers',\n",
       " 'c_stay',\n",
       " 'c_movelocal',\n",
       " 'c_movecounty',\n",
       " 'c_movestate',\n",
       " 'c_moveabroad',\n",
       " 'c_commute',\n",
       " 'c_car',\n",
       " 'c_carpool',\n",
       " 'c_transit',\n",
       " 'c_bike',\n",
       " 'c_walk',\n",
       " 'year',\n",
       " 'FIPS_11_digit',\n",
       " 'p_white',\n",
       " 'p_black',\n",
       " 'p_asian',\n",
       " 'p_latinx',\n",
       " 'p_owners',\n",
       " 'p_renters',\n",
       " 'p_stay',\n",
       " 'p_movelocal',\n",
       " 'p_movecounty',\n",
       " 'p_movestate',\n",
       " 'p_moveabroad',\n",
       " 'p_car',\n",
       " 'p_carpool',\n",
       " 'p_transit',\n",
       " 'p_bike',\n",
       " 'p_walk']"
      ]
     },
     "execution_count": 12,
     "metadata": {},
     "output_type": "execute_result"
    }
   ],
   "source": [
    "list(tracts_acs_gdf_ac.columns)"
   ]
  },
  {
   "cell_type": "markdown",
   "metadata": {},
   "source": [
    "<div style=\"display:inline-block;vertical-align:top;\">\n",
    "    <img src=\"http://www.pngall.com/wp-content/uploads/2016/03/Light-Bulb-Free-PNG-Image.png\" width=\"30\" align=left > \n",
    "</div>  \n",
    "<div style=\"display:inline-block;\">\n",
    "\n",
    "#### Question\n",
    "</div>\n",
    "\n",
    "It's always important to run sanity checks on our results, at each step of the way!\n",
    "\n",
    "In this case, how many rows and columns should we have?\n"
   ]
  },
  {
   "cell_type": "raw",
   "metadata": {},
   "source": [
    "Your response here:\n",
    "\n",
    "\n",
    "\n",
    "\n",
    "\n"
   ]
  },
  {
   "cell_type": "code",
   "execution_count": 13,
   "metadata": {},
   "outputs": [
    {
     "name": "stdout",
     "output_type": "stream",
     "text": [
      "Rows and columns in the Alameda County Census tract gdf:\n",
      "\t (360, 10)\n",
      "Row and columns in the ACS5 2018 data:\n",
      "\t (361, 44)\n",
      "Rows and columns in the Alameda County Census tract gdf joined to the ACS data:\n",
      "\t (360, 54)\n"
     ]
    }
   ],
   "source": [
    "print(\"Rows and columns in the Alameda County Census tract gdf:\\n\\t\", tracts_gdf_ac.shape)\n",
    "print(\"Row and columns in the ACS5 2018 data:\\n\\t\", acs5_df_ac.shape)\n",
    "print(\"Rows and columns in the Alameda County Census tract gdf joined to the ACS data:\\n\\t\", tracts_acs_gdf_ac.shape)"
   ]
  },
  {
   "cell_type": "markdown",
   "metadata": {},
   "source": [
    "Let's save out our merged data so we can use it in the final notebook."
   ]
  },
  {
   "cell_type": "code",
   "execution_count": 14,
   "metadata": {},
   "outputs": [],
   "source": [
    "tracts_acs_gdf_ac.to_file('outdata/tracts_acs_gdf_ac.json', driver='GeoJSON')"
   ]
  },
  {
   "cell_type": "markdown",
   "metadata": {},
   "source": [
    "## Exercise: Choropleth Map\n",
    "We can now make choropleth maps using our attribute joined geodataframe. Go ahead and pick one variable to color the map, then map it. You can go back to lesson 5 if you need a refresher on how to make this!\n",
    "\n",
    "To see the solution, double-click the Markdown cell below."
   ]
  },
  {
   "cell_type": "code",
   "execution_count": null,
   "metadata": {},
   "outputs": [],
   "source": [
    "# YOUR CODE HERE\n"
   ]
  },
  {
   "cell_type": "markdown",
   "metadata": {},
   "source": [
    "## Double-click to see solution!\n",
    "\n",
    "<!--\n",
    "\n",
    "# SOLUTION:\n",
    "fig, ax = plt.subplots(figsize = (10,5)) \n",
    "tracts_acs_gdf_ac.plot(column='p_renters', \n",
    "                   scheme=\"quantiles\",\n",
    "                   legend=True,\n",
    "                   ax=ax,cmap='magma'\n",
    "                   )\n",
    "ax.set_title(\"Percentage of Renters\")\n",
    "\n",
    "-->"
   ]
  },
  {
   "cell_type": "markdown",
   "metadata": {},
   "source": [
    "-------------------\n",
    "# 7.2 Spatial Joins"
   ]
  },
  {
   "cell_type": "markdown",
   "metadata": {},
   "source": [
    "Great! We've wrapped our heads around the concept of an attribute join.\n",
    "\n",
    "Now let's extend that concept to its spatially explicit equivalent: the **spatial join**!\n",
    "\n",
    "\n",
    "<br>\n",
    "\n",
    "To start, we'll read in some other data: The Alameda County schools data.\n",
    "\n",
    "Then we'll work with that data and our `tracts_acs_gdf_ac` data together."
   ]
  },
  {
   "cell_type": "code",
   "execution_count": null,
   "metadata": {},
   "outputs": [],
   "source": [
    "schools_df = pd.read_csv('notebook_data/alco_schools.csv')\n",
    "schools_gdf = gpd.GeoDataFrame(schools_df, \n",
    "                               geometry=gpd.points_from_xy(schools_df.X, schools_df.Y))\n",
    "schools_gdf.crs = \"epsg:4326\""
   ]
  },
  {
   "cell_type": "markdown",
   "metadata": {},
   "source": [
    "Let's check if we have to transform the schools to match the`tracts_acs_gdf_ac`'s CRS."
   ]
  },
  {
   "cell_type": "code",
   "execution_count": null,
   "metadata": {},
   "outputs": [],
   "source": [
    "print('schools_gdf CRS:', schools_gdf.crs)\n",
    "print('tracts_acs_gdf_ac CRS:', tracts_acs_gdf_ac.crs)"
   ]
  },
  {
   "cell_type": "markdown",
   "metadata": {},
   "source": [
    "Yes we do! Let's do that.\n",
    "\n",
    "**NOTE**: Explicit syntax aiming at that dataset's CRS leaves less room for human error!"
   ]
  },
  {
   "cell_type": "code",
   "execution_count": null,
   "metadata": {},
   "outputs": [],
   "source": [
    "schools_gdf = schools_gdf.to_crs(tracts_acs_gdf_ac.crs)\n",
    "\n",
    "print('schools_gdf CRS:', schools_gdf.crs)\n",
    "print('tracts_acs_gdf_ac CRS:', tracts_acs_gdf_ac.crs)"
   ]
  },
  {
   "cell_type": "markdown",
   "metadata": {},
   "source": [
    "Now we're ready to combine the datasets in an analysis.\n",
    "\n",
    "**In this case, we want to get data from the census tract within which each school is located.**\n",
    "\n",
    "But how can we do that? The two datasets don't share a common column to use for a join."
   ]
  },
  {
   "cell_type": "code",
   "execution_count": null,
   "metadata": {},
   "outputs": [],
   "source": [
    "tracts_acs_gdf_ac.columns"
   ]
  },
  {
   "cell_type": "code",
   "execution_count": null,
   "metadata": {},
   "outputs": [],
   "source": [
    "schools_gdf.columns"
   ]
  },
  {
   "cell_type": "markdown",
   "metadata": {},
   "source": [
    "However, they do have a shared relationship by way of space! \n",
    "\n",
    "So, we'll use a spatial relationship query to figure out the census tract that\n",
    "each school is in, then associate the tract's data with that school (as additional data in the school's row).\n",
    "This is a **spatial join**!\n",
    "\n",
    "---------------------------------\n",
    "\n",
    "### Census Tract Data Associated with Each School\n",
    "\n",
    "In this case, let's say we're interested in the relationship between the median household income\n",
    "in a census tract (`tracts_acs_gdf_ac['med_hhinc']`) and a school's Academic Performance Index\n",
    "(`schools_gdf['API']`).\n",
    "\n",
    "To start, let's take a look at the distributions of our two variables of interest."
   ]
  },
  {
   "cell_type": "code",
   "execution_count": null,
   "metadata": {},
   "outputs": [],
   "source": [
    "tracts_acs_gdf_ac.hist('med_hhinc')"
   ]
  },
  {
   "cell_type": "code",
   "execution_count": null,
   "metadata": {},
   "outputs": [],
   "source": [
    "schools_gdf.hist('API')"
   ]
  },
  {
   "cell_type": "markdown",
   "metadata": {},
   "source": [
    "Oh, right! Those pesky schools with no reported APIs (i.e. API == 0)! Let's drop those."
   ]
  },
  {
   "cell_type": "code",
   "execution_count": null,
   "metadata": {},
   "outputs": [],
   "source": [
    "schools_gdf_api = schools_gdf.loc[schools_gdf['API'] > 0, ]"
   ]
  },
  {
   "cell_type": "code",
   "execution_count": null,
   "metadata": {},
   "outputs": [],
   "source": [
    "schools_gdf_api.hist('API')"
   ]
  },
  {
   "cell_type": "markdown",
   "metadata": {},
   "source": [
    "Much better!\n",
    "\n",
    "Now, maybe we think there ought to be some correlation between the two variables?\n",
    "As a first pass at this possibility, let's overlay the two datasets, coloring each one by\n",
    "its variable of interest. This should give us a sense of whether or not similar values co-occur."
   ]
  },
  {
   "cell_type": "code",
   "execution_count": null,
   "metadata": {},
   "outputs": [],
   "source": [
    "ax = tracts_acs_gdf_ac.plot(column='med_hhinc', cmap='cividis', figsize=[18,18],\n",
    "                            legend=True, legend_kwds={'label': \"median household income ($)\",\n",
    "                                                      'orientation': \"horizontal\"})\n",
    "schools_gdf_api.plot(column='API', cmap='cividis', edgecolor='black', alpha=1, ax=ax,\n",
    "                     legend=True, legend_kwds={'label': \"API\", 'orientation': \"horizontal\"})"
   ]
  },
  {
   "cell_type": "markdown",
   "metadata": {},
   "source": [
    "### Spatially Joining our Schools and Census Tracts\n",
    "\n",
    "Though it's hard to say for sure, it certainly looks possible.\n",
    "It would be ideal to scatterplot the variables! But in order to do that, \n",
    "we need to know the median household income in each school's tract, which\n",
    "means we definitely need our **spatial join**!\n",
    "\n",
    "We'll first take a look at the documentation for the spatial join function, `gpd.sjoin`."
   ]
  },
  {
   "cell_type": "code",
   "execution_count": null,
   "metadata": {},
   "outputs": [],
   "source": [
    "help(gpd.sjoin)"
   ]
  },
  {
   "cell_type": "markdown",
   "metadata": {},
   "source": [
    "Looks like the key arguments to consider are:\n",
    "- the two GeoDataFrames (**`left_df`** and **`right_df`**)\n",
    "- the type of join to run (**`how`**), which can take the values `left`, `right`, or `inner`\n",
    "- the spatial relationship query to use (**`op`**)\n",
    "\n",
    "**NOTE**:\n",
    "- By default `sjoin` is an inner join. It keeps the data from both geodataframes only where the locations spatially intersect.\n",
    "\n",
    "- By default `sjoin` maintains the geometry of first geodataframe input to the operation. \n"
   ]
  },
  {
   "cell_type": "markdown",
   "metadata": {},
   "source": [
    "<div style=\"display:inline-block;vertical-align:top;\">\n",
    "    <img src=\"http://www.pngall.com/wp-content/uploads/2016/03/Light-Bulb-Free-PNG-Image.png\" width=\"30\" align=left > \n",
    "</div>  \n",
    "<div style=\"display:inline-block;\">\n",
    "\n",
    "#### Questions\n",
    "</div>\n",
    "\n",
    "1. Which GeoDataFrame are we joining onto which (i.e. which one is getting the other one's data added to it)?\n",
    "1. What happened to 'outer' as a join type?\n",
    "1. Thus, in our operation, which GeoDataFrame should be the `left_df`, which should be the `right_df`, and `how` do we want our join to run?"
   ]
  },
  {
   "cell_type": "raw",
   "metadata": {},
   "source": [
    "Your responses here:\n",
    "\n",
    "\n",
    "\n",
    "\n",
    "\n",
    "\n",
    "\n"
   ]
  },
  {
   "cell_type": "markdown",
   "metadata": {},
   "source": [
    "Alright! Let's run our join!"
   ]
  },
  {
   "cell_type": "code",
   "execution_count": null,
   "metadata": {},
   "outputs": [],
   "source": [
    "schools_jointracts = gpd.sjoin(schools_gdf_api, tracts_acs_gdf_ac, how='left')"
   ]
  },
  {
   "cell_type": "code",
   "execution_count": null,
   "metadata": {},
   "outputs": [],
   "source": [
    "schools_jointracts.head()"
   ]
  },
  {
   "cell_type": "markdown",
   "metadata": {},
   "source": [
    "### Checking Our Output\n",
    "\n",
    "<br>\n",
    "\n",
    "<div style=\"display:inline-block;vertical-align:top;\">\n",
    "    <img src=\"http://www.pngall.com/wp-content/uploads/2016/03/Light-Bulb-Free-PNG-Image.png\" width=\"30\" align=left > \n",
    "</div>  \n",
    "<div style=\"display:inline-block;\">\n",
    "\n",
    "#### Questions\n",
    "</div>\n",
    "\n",
    "As always, we want to sanity-check our intermediate result before we rush ahead.\n",
    "\n",
    "One way to do that is to introspect the structure of the result object a bit.\n",
    "\n",
    "1. What type of object should that have given us?\n",
    "1. What should the dimensions of that object be, and why?\n",
    "1. If we wanted a visual check of our results (i.e. a plot or map), what could we do?"
   ]
  },
  {
   "cell_type": "raw",
   "metadata": {},
   "source": [
    "Your responses here:\n",
    "\n",
    "\n",
    "\n",
    "\n",
    "\n",
    "\n"
   ]
  },
  {
   "cell_type": "code",
   "execution_count": null,
   "metadata": {},
   "outputs": [],
   "source": [
    "print(schools_jointracts.shape)\n",
    "print(schools_gdf.shape)\n",
    "print(tracts_acs_gdf_ac.shape)"
   ]
  },
  {
   "cell_type": "code",
   "execution_count": null,
   "metadata": {},
   "outputs": [],
   "source": [
    "schools_jointracts.head()"
   ]
  },
  {
   "cell_type": "markdown",
   "metadata": {},
   "source": [
    "Confirmed! The output of the our `sjoin` operation is a GeoDataFrame (`schools_jointracts`) with:\n",
    "- a row for each school that is located inside a census tract (all of them are)\n",
    "- the **point geometry** of that school\n",
    "- all of the attribute data columns (non-geometry columns) from both input GeoDataFrames\n",
    "\n",
    "----------------------------\n",
    "\n",
    "Let's also take a look at an overlay map of the schools on the tracts.\n",
    "If we color the schools categorically by their tracts IDs, then we should see\n",
    "that all schools within a given tract polygon are the same color."
   ]
  },
  {
   "cell_type": "code",
   "execution_count": null,
   "metadata": {},
   "outputs": [],
   "source": [
    "ax = tracts_acs_gdf_ac.plot(color='white', edgecolor='black', figsize=[18,18])\n",
    "schools_jointracts.plot(column='GEOID', ax=ax)"
   ]
  },
  {
   "cell_type": "markdown",
   "metadata": {},
   "source": [
    "### Assessing the Relationship between Median Household Income and API\n",
    "\n",
    "Fantastic! That looks right!\n",
    "\n",
    "Now we can create that scatterplot we were thinking about!"
   ]
  },
  {
   "cell_type": "code",
   "execution_count": null,
   "metadata": {},
   "outputs": [],
   "source": [
    "fig, ax = plt.subplots(figsize=(6,6))\n",
    "ax.scatter(schools_jointracts.med_hhinc, schools_jointracts.API)\n",
    "ax.set_xlabel('median household income ($)')\n",
    "ax.set_ylabel('API')"
   ]
  },
  {
   "cell_type": "markdown",
   "metadata": {},
   "source": [
    "Wow! Just as we suspected based on our overlay map,\n",
    "there's a pretty obvious, strong, and positive correlation\n",
    "between median household income in a school's tract\n",
    "and the school's API."
   ]
  },
  {
   "cell_type": "markdown",
   "metadata": {},
   "source": [
    "# 7.3: Aggregation\n",
    "\n",
    "We just saw that a spatial join in one way to leverage the spatial relationship\n",
    "between two datasets in order to create a new, synthetic dataset.\n",
    "\n",
    "An **aggregation** is another way we can generate new data from this relationship.\n",
    "In this case, for each feature in one dataset we find all the features in another\n",
    "dataset that satisfy our chosen spatial relationship query with it (e.g. within, intersects),\n",
    "then aggregate them using some summary function (e.g. count, mean).\n",
    "\n",
    "------------------------------------\n",
    "\n",
    "### Getting the Aggregated School Counts\n",
    "\n",
    "Let's take this for a spin with our data. We'll count all the schools within each census tract.\n",
    "\n",
    "Note that we've already done the first step of spatially joining the data from the aggregating features\n",
    "(the tracts) onto the data to be aggregated (our schools).\n",
    "\n",
    "The next step is to group our GeoDataFrame by census tract, and then summarize our data by group.\n",
    "We do this using the DataFrame method `groupy`.\n",
    "\n",
    "To get the correct count, lets rejoin our schools on our tracts, this time keeping all schools\n",
    "(not just those with APIs > 0, as before)."
   ]
  },
  {
   "cell_type": "code",
   "execution_count": null,
   "metadata": {},
   "outputs": [],
   "source": [
    "schools_jointracts = gpd.sjoin(schools_gdf, tracts_acs_gdf_ac, how='left')"
   ]
  },
  {
   "cell_type": "markdown",
   "metadata": {},
   "source": [
    "Now for the `groupy` operation.\n",
    "\n",
    "**NOTE**: We could really use any column, since we're just taking a count. For now we'll just use the school names ('Site')."
   ]
  },
  {
   "cell_type": "code",
   "execution_count": null,
   "metadata": {},
   "outputs": [],
   "source": [
    "schools_countsbytract = schools_jointracts[['GEOID','Site']].groupby('GEOID', as_index=False).count()\n",
    "print(\"Counts, rows and columns:\", schools_countsbytract.shape)\n",
    "print(\"Tracts, rows and columns:\", tracts_acs_gdf_ac.shape)\n",
    "\n",
    "# take a look at the data\n",
    "schools_countsbytract.head()"
   ]
  },
  {
   "cell_type": "markdown",
   "metadata": {},
   "source": [
    "### Getting Tract Polygons with School Counts\n",
    "\n",
    "The above `groupby` and `count` operations give us the counts we wanted.\n",
    "- We have the 263 (of 361) census tracts that have at least one school\n",
    "- We have the number of schools within each of those tracts\n",
    "\n",
    "But the output of `groupby` is a plain DataFrame not a GeoDataFrame.\n",
    "\n",
    "If we want a GeoDataFrame then we have two options:\n",
    "1. We could join the `groupby` output to `tracts_acs_gdf_ac` by the attribute `GEOID`\n",
    "or\n",
    "2. We could start over, using the GeoDataFrame `dissolve` method, which we can think of as a spatial `groupby`. \n"
   ]
  },
  {
   "cell_type": "markdown",
   "metadata": {},
   "source": [
    "---------------------------\n",
    "\n",
    "Since we already know how to do an attribute join, we'll do the `dissolve`!\n",
    "\n",
    "First, let's run a new spatial join."
   ]
  },
  {
   "cell_type": "code",
   "execution_count": null,
   "metadata": {},
   "outputs": [],
   "source": [
    "tracts_joinschools = gpd.sjoin(schools_gdf, tracts_acs_gdf_ac, how='right')"
   ]
  },
  {
   "cell_type": "code",
   "execution_count": null,
   "metadata": {},
   "outputs": [],
   "source": [
    "tracts_joinschools.geometry"
   ]
  },
  {
   "cell_type": "markdown",
   "metadata": {},
   "source": [
    "Now, let's run our dissolve!"
   ]
  },
  {
   "cell_type": "code",
   "execution_count": null,
   "metadata": {},
   "outputs": [],
   "source": [
    "tracts_schoolcounts = tracts_joinschools[['GEOID', 'Site', 'geometry']].dissolve(by='GEOID', aggfunc='count')\n",
    "print(\"Counts, rows and columns:\", tracts_schoolcounts.shape)\n",
    "\n",
    "# take a look\n",
    "tracts_schoolcounts.head()"
   ]
  },
  {
   "cell_type": "markdown",
   "metadata": {},
   "source": [
    "Nice! Let's break that down.\n",
    "\n",
    "- The `dissolve` operation requires a geometry column and a grouping column (in our case, 'GEOID'). Any geometries within the **same group** will be dissolved if they have the same geometry or nested geometries. \n",
    " \n",
    "- The `aggfunc`, or aggregation function, of the dissolve operation will be applied to all numeric columns in the input geodataframe (unless the function is `count` in which case it will count rows.)  \n",
    "\n",
    "Check out the Geopandas documentation on [dissolve](https://geopandas.org/aggregation_with_dissolve.html?highlight=dissolve) for more information.\n"
   ]
  },
  {
   "cell_type": "markdown",
   "metadata": {},
   "source": [
    "<div style=\"display:inline-block;vertical-align:top;\">\n",
    "    <img src=\"http://www.pngall.com/wp-content/uploads/2016/03/Light-Bulb-Free-PNG-Image.png\" width=\"30\" align=left > \n",
    "</div>  \n",
    "<div style=\"display:inline-block;\">\n",
    "\n",
    "#### Questions\n",
    "</div>\n",
    "\n",
    "1. Above we selected three columns from the input GeoDataFrame to create a subset as input to the dissolve operation. Why?\n",
    "1. Why did we run a new spatial join? What would have happened if we had used the `schools_jointracts` object instead?\n",
    "1. What explains the dimensions of the new object (361, 2)?"
   ]
  },
  {
   "cell_type": "raw",
   "metadata": {},
   "source": [
    "You responses here:\n",
    "\n",
    "\n",
    "\n",
    "\n",
    "\n",
    "\n"
   ]
  },
  {
   "cell_type": "markdown",
   "metadata": {},
   "source": [
    "### Mapping our Spatial Join Output"
   ]
  },
  {
   "cell_type": "markdown",
   "metadata": {},
   "source": [
    "Also, because our `sjoin` plus `dissolve` pipeline outputs a GeoDataFrame, we can now easily map the school count by census tract!"
   ]
  },
  {
   "cell_type": "code",
   "execution_count": null,
   "metadata": {},
   "outputs": [],
   "source": [
    "fig, ax = plt.subplots(figsize = (14,8)) \n",
    "\n",
    "# Display the output of our spatial join\n",
    "tracts_schoolcounts.plot(ax=ax,column='Site', \n",
    "                         scheme=\"user_defined\",\n",
    "                         classification_kwds={'bins':[*range(9)]},\n",
    "                         cmap=\"PuRd_r\",\n",
    "                         edgecolor=\"grey\",\n",
    "                         legend=True, \n",
    "                         legend_kwds={'title':'Number of schools'})\n",
    "schools_gdf.plot(ax=ax, color='black', markersize=2)"
   ]
  },
  {
   "cell_type": "markdown",
   "metadata": {},
   "source": [
    "---------------------\n",
    "\n",
    "# Exercise: Aggregation\n",
    "\n",
    "#### What is the mean API of each census tract?\n",
    "\n",
    "As we mentioned, the spatial aggregation workflow that we just put together above\n",
    "could have been used not to generate a new count variable, but also\n",
    "to generate any other new variable the results from calling an aggregation function\n",
    "on an attribute column.\n",
    "\n",
    "In this case, we want to calculate and map the mean API of the schools in each census tract.\n",
    "\n",
    "Copy and paste code from above where useful, then tweak and/or add to that code such that your new code:\n",
    "1. joins the schools onto the tracts (**HINT**: make sure to decide whether or not you want to include schools with API = 0!)\n",
    "1. dissolves that joined object by the tract IDs, giving you a new GeoDataFrame with each tract's mean API (**HINT**: because this is now a different calculation, different problems may arise and need handling!)\n",
    "1. plots the tracts, colored by API scores (**HINT**: overlay the schools points again, visualizing them in a way that will help you visually check your results!)\n",
    "\n",
    "To see the solution, double-click the Markdown cell below."
   ]
  },
  {
   "cell_type": "code",
   "execution_count": null,
   "metadata": {},
   "outputs": [],
   "source": [
    "# YOUR CODE HERE:\n",
    "\n",
    "\n",
    "\n",
    "\n"
   ]
  },
  {
   "cell_type": "markdown",
   "metadata": {},
   "source": [
    "## Double-click to see solution!\n",
    "\n",
    "<!--\n",
    "\n",
    "# SOLUTION:\n",
    "\n",
    "# join the schools onto the tracks (excluding 0-API schools so that they don't skew our results!)\n",
    "tracts_joinschools_api = gpd.sjoin(schools_gdf_api, tracts_acs_gdf_ac, how='right')\n",
    "\n",
    "# dissolve the tracts by GEOID, using 'API' as the column we'll aggregate and 'mean' as our aggfunc\n",
    "tracts_meanAPI = tracts_joinschools_api[['GEOID', 'API', 'geometry']].dropna(how='any').dissolve(by='GEOID',\n",
    "                                                                                                 aggfunc='mean')\n",
    "\n",
    "# plot the tracts, coloring them by mean API\n",
    "fig, ax = plt.subplots(figsize = (20,20)) \n",
    "tracts_meanAPI.plot(ax=ax,column='API', \n",
    "                    scheme='equalinterval',\n",
    "                    cmap=\"cool_r\",\n",
    "                    edgecolor=\"grey\",\n",
    "                    legend=True, legend_kwds={'title': 'mean API (tracts)'})\n",
    "# add the schools, coloring them by API (so we can check that the mean APIs we calculated are resonable)\n",
    "schools_gdf_api.plot(ax=ax, column='API', cmap='cool_r', edgecolor='black', linewidth=0.3, markersize=25,\n",
    "                 legend=True, legend_kwds={'label': \"API (schools)\", 'orientation': \"horizontal\"})\n",
    "\n",
    "-->\n",
    "\n",
    "----------------------------"
   ]
  },
  {
   "cell_type": "markdown",
   "metadata": {},
   "source": [
    "## 7.4 Recap\n",
    "We discussed how we can combine datasets to enhance any geospatial data analyses you could do. Key concepts include:\n",
    "-  Attribute joins\n",
    "\t- `.merge()`\n",
    "- Spatial joins (order matters!)\n",
    "\t- `gpd.sjoin()`\n",
    "- Aggregation\n",
    "\t-`.groupby()`\n",
    "\t- `.dissolve()` (preserves geometry)"
   ]
  },
  {
   "cell_type": "markdown",
   "metadata": {},
   "source": [
    "---\n",
    "<div style=\"display:inline-block;vertical-align:middle;\">\n",
    "<a href=\"https://dlab.berkeley.edu/\" target=\"_blank\"><img src =\"assets/images/dlab_logo.png\" width=\"75\" align=\"left\">\n",
    "</a>\n",
    "</div>\n",
    "\n",
    "<div style=\"display:inline-block;vertical-align:middle;\">\n",
    "    <div style=\"font-size:larger\">&nbsp;D-Lab @ University of California - Berkeley</div>\n",
    "    <div>&nbsp;Team Geo<div>\n",
    "</div>\n",
    "        \n",
    "\n",
    "\n"
   ]
  }
 ],
 "metadata": {
  "kernelspec": {
   "display_name": "Python 3",
   "language": "python",
   "name": "python3"
  },
  "language_info": {
   "codemirror_mode": {
    "name": "ipython",
    "version": 3
   },
   "file_extension": ".py",
   "mimetype": "text/x-python",
   "name": "python",
   "nbconvert_exporter": "python",
   "pygments_lexer": "ipython3",
   "version": "3.9.5"
  }
 },
 "nbformat": 4,
 "nbformat_minor": 4
}
