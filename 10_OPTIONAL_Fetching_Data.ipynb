{
 "cells": [
  {
   "cell_type": "markdown",
   "metadata": {},
   "source": [
    "# 10. Read in Data from Online Sources + CSV to Geodataframe\n",
    "\n",
    "In this optional notebook we'll be going over how to read data into a notebook from online sources.\n",
    "\n",
    "- [10.1 Introduction ](#section1)\n",
    "- [10.2 Read File from a URL](#section2)\n",
    "- [10.3 Read File from an API](#section3)\n",
    "- [10.4 Read in Data from a Python Library](#section4)\n",
    "- [10.5 Exercise](#section5)\n",
    "- [10.6 Read and Convert a CSV File to a GeoDataFrame](#section6)\n",
    "\n",
    "\n",
    "\n",
    "<br>\n",
    "<font color='grey'>\n",
    "    \n",
    "**Instructor Notes**\n",
    "- Datasets used\n",
    "    - California census tract cartographic [boundaries](https://www2.census.gov/geo/tiger/GENZ2019/shp/cb_2019_06_place_500k.zip) for 2019 from the United States Census Bureau\n",
    "    - United States county cartographic [boundaries](https://www2.census.gov/geo/tiger/GENZ2019/shp/cb_2019_us_county_500k.zip) for 2019 from the United States Census Bureau\n",
    "    - San Francisco [bikeway routes](https://data.sfgov.org/api/geospatial/ygmz-vaxd?method=export&format=GeoJSON)\n",
    "    - Berkeley [bikeway routes](https://data.cityofberkeley.info/api/geospatial/fgw9-98ic?method=export&format=GeoJSON)\n",
    "    - Open Street Map San Francisco and Berkeley street networks obtained with the Python OSMNX package"
   ]
  },
  {
   "cell_type": "markdown",
   "metadata": {},
   "source": [
    "<a id=\"section1\"></a>\n",
    "## 10.1 Introduction\n",
    "\n",
    "In the past examples, the data we have imported into our notebooks has come either from previously downloaded and saved files or from the census API. The goal of this notebook is to present other ways of accessing data, either from **urls**, other **APIs** or from predetermined **Python libraries**."
   ]
  },
  {
   "cell_type": "markdown",
   "metadata": {},
   "source": [
    "### Setup\n",
    "Let's import the packages we need before we get started."
   ]
  },
  {
   "cell_type": "code",
   "execution_count": 2,
   "metadata": {},
   "outputs": [],
   "source": [
    "import pandas as pd\n",
    "import collections\n",
    "import requests \n",
    "from urllib.request import urlopen, Request\n",
    "\n",
    "import json # for working with JSON data\n",
    "import geojson # ditto for GeoJSON data - an extension of JSON with support for geographic data\n",
    "import geopandas as gpd\n",
    "\n",
    "import matplotlib # base python plotting library\n",
    "%matplotlib inline  \n",
    "import matplotlib.pyplot as plt # more plotting stuff"
   ]
  },
  {
   "cell_type": "markdown",
   "metadata": {},
   "source": [
    "<a id=\"section2\"></a>\n",
    "## 10.2 Read File from a URL\n",
    "\n",
    "The following link shows the different shapefile data available through the Census Bureau [website](https://www2.census.gov/geo/tiger/GENZ2019/shp/). Clicking on any of the files will dowload the .zip file unto your computer.\n",
    "\n",
    "This notebook will show a workaround to access the file directly from the notebook, without having to go through the process of previously downloading the shapefile.\n",
    "\n",
    "For this example, we will download the cities for the state of California ([cb_2019_06_place_500k.zip](https://www2.census.gov/geo/tiger/GENZ2019/shp/cb_2019_06_place_500k.zip)). Remember that California's State FIPS code is 06, which is how we recognize that this dataset is associated with the state of California."
   ]
  },
  {
   "cell_type": "markdown",
   "metadata": {},
   "source": [
    "### Read the data from the url, read it using geopandas and create a subset of only Berkeley places"
   ]
  },
  {
   "cell_type": "markdown",
   "metadata": {},
   "source": [
    "First, we'll save the data from the url into a variable called *ca_places*."
   ]
  },
  {
   "cell_type": "code",
   "execution_count": 4,
   "metadata": {},
   "outputs": [],
   "source": [
    "ca_places = \"https://www2.census.gov/geo/tiger/GENZ2019/shp/cb_2019_06_place_500k.zip\""
   ]
  },
  {
   "cell_type": "markdown",
   "metadata": {},
   "source": [
    "Now, we'll use geopandas to read the file and then we'll visualize it to make sure we read it properly"
   ]
  },
  {
   "cell_type": "code",
   "execution_count": 5,
   "metadata": {
    "scrolled": false
   },
   "outputs": [
    {
     "data": {
      "image/png": "[encoded data removed]",
      "text/plain": [
       "<Figure size 432x288 with 1 Axes>"
      ]
     },
     "metadata": {
      "needs_background": "light"
     },
     "output_type": "display_data"
    }
   ],
   "source": [
    "places = gpd.read_file(ca_places)\n",
    "places.plot(); ### This takes a little bit, because the file is fairly large"
   ]
  },
  {
   "cell_type": "markdown",
   "metadata": {},
   "source": [
    "#### CONFIRM THAT THIS IS TRUE\n",
    "Notice that there are some spaces inside the boundaries of the state of California that are empty. These are unincorporated areas."
   ]
  },
  {
   "cell_type": "markdown",
   "metadata": {},
   "source": [
    "However, say we are only interested in the City of Berkeley. Let's examine the file to see how we could select the polygon fob Berkeley. We'll take a look at which columns are included in the dataset."
   ]
  },
  {
   "cell_type": "code",
   "execution_count": null,
   "metadata": {
    "scrolled": true
   },
   "outputs": [],
   "source": [
    "places.head()"
   ]
  },
  {
   "cell_type": "markdown",
   "metadata": {},
   "source": [
    "Let's try filtering by Name"
   ]
  },
  {
   "cell_type": "code",
   "execution_count": null,
   "metadata": {
    "scrolled": false
   },
   "outputs": [],
   "source": [
    "berkeley = places[places['NAME']=='Berkeley']\n",
    "berkeley.plot();"
   ]
  },
  {
   "cell_type": "markdown",
   "metadata": {},
   "source": [
    "Awesome! This worked! Now we have a polygon with the boundaries of the City of Berkeley."
   ]
  },
  {
   "cell_type": "markdown",
   "metadata": {},
   "source": [
    "<a id=\"section3\"></a>\n",
    "## 10.3 Read in file from a API\n",
    "\n",
    "In this section, we will be reading a file using an API, or Application Programming Interface. APIs are very useful, because they allow two different portals to talk to each other. For more information on APIs, take a look [here](https://en.wikipedia.org/wiki/Application_programming_interface).\n",
    "\n",
    "In this case, we will be using the City of Berkeley Open Data Portal's API to read in information on the bike network to out notebook.\n",
    "\n",
    "Below you can find more information both on the City of Berkeley's Open Data portal and on the bike network data.\n",
    "\n",
    "### Berkeley Open Data portal\n",
    "https://data.cityofberkeley.info/\n",
    "\n",
    "### Berkeley Bike Network data\n",
    "https://data.cityofberkeley.info/Transportation/Bicycle-Boulevards/fgw9-98ic\n",
    "\n",
    "\n",
    "We will be reading the geospatial data for the bike network of the City of Berkeley."
   ]
  },
  {
   "cell_type": "markdown",
   "metadata": {},
   "source": [
    "As before, first we'll save the data from the url into a variable called *berkeley_bike_ways* and then we'll read it using geopandas."
   ]
  },
  {
   "cell_type": "code",
   "execution_count": null,
   "metadata": {},
   "outputs": [],
   "source": [
    "berkeley_bike_ways = \"https://data.cityofberkeley.info/api/geospatial/fgw9-98ic?method=export&format=GeoJSON\"\n",
    "bikes = gpd.read_file(berkeley_bike_ways)"
   ]
  },
  {
   "cell_type": "markdown",
   "metadata": {},
   "source": [
    "Now, we'll plot the bikeways on top of the City of Berkeley polygon that we imported from the Census Bureau url"
   ]
  },
  {
   "cell_type": "code",
   "execution_count": null,
   "metadata": {
    "scrolled": false
   },
   "outputs": [],
   "source": [
    "fig, ax = plt.subplots(figsize = (10,8)) \n",
    "berkeley.plot(ax=ax)\n",
    "bikes.plot(ax=ax)\n",
    "plt.show()"
   ]
  },
  {
   "cell_type": "markdown",
   "metadata": {},
   "source": [
    "Oops! Where did the bike lanes go? Well, python uses a default color for all plots, so the bike paths were plotted on top of the polygon in the exact same color. Let's try to plot the bike lanes yellow."
   ]
  },
  {
   "cell_type": "code",
   "execution_count": null,
   "metadata": {
    "scrolled": false
   },
   "outputs": [],
   "source": [
    "fig, ax = plt.subplots(figsize = (10,8)) \n",
    "berkeley.plot(ax=ax)\n",
    "bikes.plot(ax=ax, color=\"yellow\")\n",
    "plt.show()"
   ]
  },
  {
   "cell_type": "markdown",
   "metadata": {},
   "source": [
    "Now we have a map that shows where the bike network of the City of Berkeley is located."
   ]
  },
  {
   "cell_type": "markdown",
   "metadata": {},
   "source": [
    "<a id=\"section4\"></a>\n",
    "## 10.4 Read in data via a Python library (OSMnx)\n",
    "\n",
    "OSMnx is a Python library that lets you access Open Street Map's street networks through an API.\n",
    "\n",
    "You can explore more of Open Street Maps [here](https://www.openstreetmap.org/)\n",
    "\n",
    "You can access the full documentation of OSMnx [here](https://osmnx.readthedocs.io/en/stable/index.html)"
   ]
  },
  {
   "cell_type": "code",
   "execution_count": null,
   "metadata": {},
   "outputs": [],
   "source": [
    "# Uncomment to install library\n",
    "# !pip install osmnx"
   ]
  },
  {
   "cell_type": "markdown",
   "metadata": {},
   "source": [
    "If the below cell does not run, you need to install the library first, by uncommmenting and running the cell above\n",
    "\n",
    "> **Note**\n",
    ">\n",
    "> If you get a `numpy` associated error you may need to uninstall and reinstall `numpy` as well as set up tools. Run the following lines of code in your terminal:\n",
    "><code>\n",
    "    pip uninstall -y numpy\n",
    "    pip uninstall -y setuptools\n",
    "    pip install setuptools\n",
    "    pip install numpy</code>"
   ]
  },
  {
   "cell_type": "code",
   "execution_count": null,
   "metadata": {},
   "outputs": [],
   "source": [
    "import osmnx as ox"
   ]
  },
  {
   "cell_type": "markdown",
   "metadata": {},
   "source": [
    "Now we can use the osmnx library to access data from Open Street Maps. Let's try to load the Berkeley street map. \n",
    "We are using the graph_from_place function, with full documentation [here](https://osmnx.readthedocs.io/en/stable/osmnx.html#osmnx.graph.graph_from_place).\n",
    "\n",
    "\n",
    "We need to define two arguments for the function: the **query** and the **network type**\n",
    "\n",
    "- **Query**: For cities in the US, the query should follow the following format: \"City Name, State Abbreviation, USA\"\n",
    "    \n",
    "    \n",
    "- **Network Type**: This is where we define which network we are interested in. Some of the available options are:\n",
    "    - all\n",
    "    - drive\n",
    "    - walk\n",
    "    - bike\n"
   ]
  },
  {
   "cell_type": "markdown",
   "metadata": {},
   "source": [
    "Let's try to read the data for the vehicular network for Berkeley."
   ]
  },
  {
   "cell_type": "code",
   "execution_count": null,
   "metadata": {},
   "outputs": [],
   "source": [
    "place = \"Berkeley, CA,  USA\"\n",
    "graph = ox.graph_from_place(place, network_type='drive')"
   ]
  },
  {
   "cell_type": "markdown",
   "metadata": {},
   "source": [
    "This took a while to read. Let's take a look at how many elements were loaded from OSM for Berkeley"
   ]
  },
  {
   "cell_type": "code",
   "execution_count": null,
   "metadata": {
    "scrolled": false
   },
   "outputs": [],
   "source": [
    "len(graph)"
   ]
  },
  {
   "cell_type": "markdown",
   "metadata": {},
   "source": [
    "Let's check the data type"
   ]
  },
  {
   "cell_type": "code",
   "execution_count": null,
   "metadata": {},
   "outputs": [],
   "source": [
    "type(graph)"
   ]
  },
  {
   "cell_type": "markdown",
   "metadata": {},
   "source": [
    "This is a new format. To get this into something that is familiar to us, we are going to extract the nodes and links by using the *graph_to_gdfs* function, which converts our data from a graph to two geodataframes. Because a street network is made up from nodes and links, and our geodatraframes can only have one geography type, the *graph_to_gdfs* returns 2 geodataframes: a node (point) and a street (line) geodataframe."
   ]
  },
  {
   "cell_type": "code",
   "execution_count": null,
   "metadata": {
    "scrolled": true
   },
   "outputs": [],
   "source": [
    "nodes, streets = ox.graph_to_gdfs(graph)\n",
    "streets.plot();"
   ]
  },
  {
   "cell_type": "markdown",
   "metadata": {},
   "source": [
    "Now, let's try to put everything together in the same map (the limits of the city, the bike lanes and the streets)"
   ]
  },
  {
   "cell_type": "code",
   "execution_count": null,
   "metadata": {
    "scrolled": false
   },
   "outputs": [],
   "source": [
    "fig, ax = plt.subplots(figsize = (10,8)) \n",
    "berkeley.plot(ax=ax)\n",
    "streets.plot(ax=ax, color=\"grey\")\n",
    "bikes.plot(ax=ax, color=\"yellow\")\n",
    "plt.show()"
   ]
  },
  {
   "cell_type": "markdown",
   "metadata": {},
   "source": [
    "Another feature that we can extract form OSMnx is the bus stops. To do this, we use the pois_from_place function (see full documentation [here](https://osmnx.readthedocs.io/en/stable/osmnx.html#osmnx.pois.pois_from_place))\n",
    "\n",
    "This function requires two arguments: the **query** (same as above) and the **tag**:\n",
    "\n",
    "- **Query**: For cities in the US, the query should follow the following format: \"City Name, State Abbreviation, USA\"\n",
    "    \n",
    "    \n",
    "- **Tag**: This is where we define which tags we are interested in. There are many options available. You can find a list of tag features [here](https://wiki.openstreetmap.org/wiki/Map_Features#Highway). These tags are coded as dictionaries. Bus stops are a value defined under the key highway, therefore, the format to call for bus stops looks like this: {'highway':'bus_stop'}"
   ]
  },
  {
   "cell_type": "markdown",
   "metadata": {},
   "source": [
    "Let's access the bus stops using the same query defined for Berkeley\n",
    "\n",
    "> **Note**\n",
    ">\n",
    ">If you are using an older version of `osmnx` you would be able to use the function `pois_from_place`. This and other functions such as `footprints_from_place` are deprecated as of July 2020. `geometries_from_place` is meant to replace these functions."
   ]
  },
  {
   "cell_type": "code",
   "execution_count": null,
   "metadata": {},
   "outputs": [],
   "source": [
    "### fetch and map POIs from osmnx\n",
    "busstops = ox.geometries_from_place(place, tags = {'highway':'bus_stop'})"
   ]
  },
  {
   "cell_type": "markdown",
   "metadata": {},
   "source": [
    "Now, let's check the data type busstops was read as"
   ]
  },
  {
   "cell_type": "code",
   "execution_count": null,
   "metadata": {
    "scrolled": true
   },
   "outputs": [],
   "source": [
    "type(busstops)"
   ]
  },
  {
   "cell_type": "markdown",
   "metadata": {},
   "source": [
    "As we can see, busstops is already a geodataframe. Therefore, we can plot it as it is unto out map."
   ]
  },
  {
   "cell_type": "code",
   "execution_count": null,
   "metadata": {},
   "outputs": [],
   "source": [
    "fig, ax = plt.subplots(figsize = (10,8)) \n",
    "berkeley.plot(ax=ax)\n",
    "streets.plot(ax=ax, color=\"grey\")\n",
    "bikes.plot(ax=ax, color=\"yellow\")\n",
    "busstops.plot(ax=ax, color=\"white\")\n",
    "plt.show()"
   ]
  },
  {
   "cell_type": "markdown",
   "metadata": {},
   "source": [
    "<a id=\"section5\"></a>\n",
    "## 10.5 Exercise\n",
    "\n",
    "Repeat above for SF. The link for accessing the bikeways for SF is already given to you below.\n",
    "\n",
    "### SF Open Data portal\n",
    "\n",
    "https://datasf.org/opendata/\n",
    "\n",
    "#### SF Bike Network data\n",
    "https://data.sfgov.org/Transportation/SFMTA-Bikeway-Network/ygmz-vaxd"
   ]
  },
  {
   "cell_type": "code",
   "execution_count": null,
   "metadata": {},
   "outputs": [],
   "source": [
    "sf_bike_ways = \"https://data.sfgov.org/api/geospatial/ygmz-vaxd?method=export&format=GeoJSON\""
   ]
  },
  {
   "cell_type": "code",
   "execution_count": null,
   "metadata": {},
   "outputs": [],
   "source": [
    "# Your code here"
   ]
  },
  {
   "cell_type": "markdown",
   "metadata": {},
   "source": [
    "## Double-click here to see solution!\n",
    "\n",
    "<!--\n",
    "\n",
    "# SOLUTION:\n",
    "\n",
    "sf_bikes = gpd.read_file(sf_bike_ways)\n",
    "\n",
    "# Limit places data to San Francisco\n",
    "sf = places[places['NAME']=='San Francisco']\n",
    "\n",
    "# Set place to be for SF\n",
    "place = \"San Francisco, CA,  USA\"\n",
    "# Pull in networtk from OSM\n",
    "graph = ox.graph_from_place(place, network_type='bike')\n",
    "# Extract nodes and streets as geodataframes\n",
    "nodes, streets = ox.graph_to_gdfs(graph)\n",
    "\n",
    "# Plot results\n",
    "fig, ax = plt.subplots(figsize = (10,8)) \n",
    "sf.plot(ax=ax)\n",
    "streets.plot(ax=ax, color=\"grey\")\n",
    "sf_bikes.plot(ax=ax, color=\"yellow\")\n",
    "plt.show()\n",
    "\n",
    "\n",
    "-->"
   ]
  },
  {
   "cell_type": "markdown",
   "metadata": {},
   "source": [
    "<a id=\"section6\"></a>\n",
    "## 10.6 Read in Data from a CSV and convert to geodataframe\n",
    "\n",
    "In this example, we'll learn how to read a csv file with latitude and longitude coordinates and convert it to a geodataframe for plotting."
   ]
  },
  {
   "cell_type": "code",
   "execution_count": null,
   "metadata": {
    "scrolled": true
   },
   "outputs": [],
   "source": [
    "# Read in CSV file\n",
    "stations = pd.read_csv(\"notebook_data/transportation/bart.csv\")\n",
    "stations.head()"
   ]
  },
  {
   "cell_type": "markdown",
   "metadata": {},
   "source": [
    "We now want to convert the csv file into a Point geodataframe, so we can produce maps and access the geospatial analysis tools.\n",
    "\n",
    "We do this below with the geopandas `GeoDataFrame` function which takes as input\n",
    "\n",
    "1. a pandas dataframe here `stations`, and\n",
    "2. `geometry` for each row in the dataframe.\n",
    "\n",
    "We create the geometry using the geopandas `points_from_xy` function, using the data in the `lon` and `lat` columns of the pandas dataframe."
   ]
  },
  {
   "cell_type": "code",
   "execution_count": null,
   "metadata": {
    "scrolled": true
   },
   "outputs": [],
   "source": [
    "#Convert the DataFrame to a GeoDataFrame. \n",
    "bart_gdf = gpd.GeoDataFrame(stations, geometry=gpd.points_from_xy(stations.lon, stations.lat)) \n",
    "\n",
    "# and take a look\n",
    "bart_gdf.plot();"
   ]
  },
  {
   "cell_type": "markdown",
   "metadata": {},
   "source": [
    "Now we have a map of BART stations!  You can use this approach with any CSV file that has columns of x,y coordinates."
   ]
  },
  {
   "cell_type": "markdown",
   "metadata": {},
   "source": [
    "### 10.7 Exercises\n",
    "\n",
    "\n",
    "\n",
    "Set the CRS for `bart_gdf` to WGS84"
   ]
  },
  {
   "cell_type": "code",
   "execution_count": null,
   "metadata": {},
   "outputs": [],
   "source": []
  },
  {
   "cell_type": "markdown",
   "metadata": {},
   "source": [
    "Below is the url for the 2019 census county geographic boundary file.\n",
    "\n",
    "* Read in the county file\n",
    "* Subset on Marin County\n",
    "* Plot Marin County with the Bart stations you transformed\n",
    "* Question: what should do if the county name is not unique?"
   ]
  },
  {
   "cell_type": "code",
   "execution_count": null,
   "metadata": {},
   "outputs": [],
   "source": [
    "# Census Counties file for the USA\n",
    "county_file = \"https://www2.census.gov/geo/tiger/GENZ2019/shp/cb_2019_us_county_500k.zip\""
   ]
  },
  {
   "cell_type": "code",
   "execution_count": null,
   "metadata": {},
   "outputs": [],
   "source": [
    "# Your code here"
   ]
  },
  {
   "cell_type": "markdown",
   "metadata": {},
   "source": [
    "## Double-click here to see solution!\n",
    "\n",
    "<!--\n",
    "\n",
    "# SOLUTION:\n",
    "\n",
    "# Set CRS of Bart since it's missing\n",
    "bart_gdf.crs ='epsg:4326'\n",
    "\n",
    "# Bring in counties\n",
    "counties = gpd.read_file(county_file)\n",
    "counties.head()\n",
    "\n",
    "# Subset to marin\n",
    "marin = counties[counties['NAME']=='Marin']\n",
    "marin.crs\n",
    "\n",
    "# Figure\n",
    "fig,ax = plt.subplots(figsize=(8,8))\n",
    "marin.plot(ax=ax,color='tan')\n",
    "bart_gdf.plot(ax=ax,color='k')\n",
    "\n",
    "-->"
   ]
  },
  {
   "cell_type": "markdown",
   "metadata": {},
   "source": [
    "---\n",
    "<div style=\"display:inline-block;vertical-align:middle;\">\n",
    "<a href=\"https://dlab.berkeley.edu/\" target=\"_blank\"><img src =\"assets/images/dlab_logo.png\" width=\"75\" align=\"left\">\n",
    "</a>\n",
    "</div>\n",
    "\n",
    "<div style=\"display:inline-block;vertical-align:middle;\">\n",
    "    <div style=\"font-size:larger\">&nbsp;D-Lab @ University of California - Berkeley</div>\n",
    "    <div>&nbsp;Team Geo<div>\n",
    "</div>\n",
    "        \n"
   ]
  }
 ],
 "metadata": {
  "kernelspec": {
   "display_name": "Python 3",
   "language": "python",
   "name": "python3"
  },
  "language_info": {
   "codemirror_mode": {
    "name": "ipython",
    "version": 3
   },
   "file_extension": ".py",
   "mimetype": "text/x-python",
   "name": "python",
   "nbconvert_exporter": "python",
   "pygments_lexer": "ipython3",
   "version": "3.9.5"
  }
 },
 "nbformat": 4,
 "nbformat_minor": 4
}
