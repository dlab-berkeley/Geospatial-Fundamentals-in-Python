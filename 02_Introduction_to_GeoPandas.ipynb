{
 "cells": [
  {
   "cell_type": "markdown",
   "metadata": {},
   "source": [
    "# Lesson 2. Introduction to Geopandas\n",
    "\n",
    "In this lesson we'll learn about a package that is core to using geospatial data in Python. We'll go through the structure of the data (it's not too different from regular DataFrames!), geometries, shapefiles, and how to save your hard work.\n",
    "\n",
    "- 2.1 What is GeoPandas?\n",
    "- 2.2 Read in a shapefile\n",
    "- 2.3 Explore the GeoDataFrame\n",
    "- 2.4 Plot the GeoDataFrame\n",
    "- 2.5 Subset the GeoDataFrame\n",
    "- 2.6 Save your data\n",
    "- 2.7 Recap\n",
    "- **Exercise:** IO, Manipulation, and Mapping\n",
    "\n",
    "<br>\n",
    "<font color='grey'>\n",
    "\n",
    "**Instructor Notes**\n",
    "\n",
    "- Datasets used\n",
    "  - California counties shapefile ('notebook_data/california_counties/CaliforniaCounties.shp')\n",
    "  - California places cartographic [boundaries](https://www2.census.gov/geo/tiger/GENZ2019/shp/cb_2019_06_place_500k.zip) for 2019 from the United States Census Bureau ('notebook_data/census/Places/cb_2019_06_place_500k.zip')\n",
    "\n",
    "- Expected time to complete\n",
    "  - Lecture and questions: 30 minutes\n",
    "  - Exercises: 5 minutes\n",
    "\n",
    "</font>"
   ]
  },
  {
   "cell_type": "markdown",
   "metadata": {},
   "source": [
    "## 2.1 What is GeoPandas?\n",
    "\n",
    "### GeoPandas and related Geospatial Packages\n",
    "\n",
    "[GeoPandas](http://geopandas.org/) is a relatively new package that makes it easier to work with geospatial data in Python. In the last few years it has grown more powerful and stable. This is really great because previously it was quite complex to work with geospatial data in Python. GeoPandas is now the go-to package for working with `vector` geospatial data in Python. \n",
    "\n",
    "> **Protip**: If you work with `raster` data you will want to checkout the [rasterio](https://rasterio.readthedocs.io/en/latest/) package. We will not cover raster data in this tutorial.\n",
    "\n",
    "### GeoPandas = pandas + geo\n",
    "GeoPandas gives you access to all of the functionality of [pandas](https://pandas.pydata.org/), which is the primary data analysis tool for working with tabular data in Python. GeoPandas extends pandas with attributes and methods for working with geospatial data.\n",
    "\n",
    "\n"
   ]
  },
  {
   "cell_type": "markdown",
   "metadata": {},
   "source": [
    "### Import Libraries\n",
    "\n",
    "Let's start by importing the libraries that we will use."
   ]
  },
  {
   "cell_type": "code",
   "execution_count": 1,
   "metadata": {},
   "outputs": [],
   "source": [
    "import pandas as pd\n",
    "import geopandas as gpd\n",
    "\n",
    "import matplotlib # base python plotting library\n",
    "import matplotlib.pyplot as plt # submodule of matplotlib\n",
    "\n",
    "# To display plots, maps, charts etc in the notebook\n",
    "%matplotlib inline  "
   ]
  },
  {
   "cell_type": "markdown",
   "metadata": {},
   "source": [
    "## 2.2 Read in a shapefile\n",
    "\n",
    "As we discussed in the initial geospatial overview, a *shapefile* is one type of geospatial data that holds vector data. \n",
    "\n",
    "> To learn more about ESRI Shapefiles, this is a good place to start: [ESRI Shapefile Wiki Page](https://en.wikipedia.org/wiki/Shapefile) \n",
    "\n",
    "The tricky thing to remember about shapefiles is that they're actually a collection of 3 to 9+ files together. Here's a list of all the files that can make up a shapefile:\n",
    " \n",
    ">`shp`: The main file that stores the feature geometry\n",
    ">\n",
    ">`shx`: The index file that stores the index of the feature geometry  \n",
    ">\n",
    ">`dbf`: The dBASE table that stores the attribute information of features \n",
    ">\n",
    ">`prj`: The file that stores the coordinate system information. (should be required!)\n",
    ">\n",
    ">`xml`: Metadata —Stores information about the shapefile.\n",
    ">\n",
    ">`cpg`: Specifies the code page for identifying the character set to be used.\n",
    "\n",
    "But it remains the most commonly used file format for vector spatial data, and it's really easy to visualize in one go!\n",
    "\n",
    "Let's try it out with California counties, and use `geopandas` for the first time. `gpd.read_file` is a flexible function that let's you read in many different types of geospatial data."
   ]
  },
  {
   "cell_type": "code",
   "execution_count": 2,
   "metadata": {},
   "outputs": [],
   "source": [
    "# Read in the counties shapefile\n",
    "counties = gpd.read_file('notebook_data/california_counties/CaliforniaCounties.shp')"
   ]
  },
  {
   "cell_type": "code",
   "execution_count": 3,
   "metadata": {},
   "outputs": [
    {
     "data": {
      "text/plain": [
       "<AxesSubplot:>"
      ]
     },
     "execution_count": 3,
     "metadata": {},
     "output_type": "execute_result"
    },
    {
     "data": {
      "image/png": "[encoded data removed]",
      "text/plain": [
       "<Figure size 432x288 with 1 Axes>"
      ]
     },
     "metadata": {
      "needs_background": "light"
     },
     "output_type": "display_data"
    }
   ],
   "source": [
    "# Plot out California counties\n",
    "counties.plot()"
   ]
  },
  {
   "cell_type": "markdown",
   "metadata": {},
   "source": [
    "Bam! Amazing! We're off to a running start."
   ]
  },
  {
   "cell_type": "markdown",
   "metadata": {},
   "source": [
    "## 2.3 Explore the GeoDataFrame\n",
    "\n",
    "Before we get in too deep, let's discuss what a *GeoDataFrame* is and how it's different from `pandas` *DataFrames*.\n",
    "\n",
    "### The GeoPandas GeoDataFrame\n",
    "\n",
    "A [GeoPandas GeoDataFrame](https://geopandas.org/data_structures.html#geodataframe), or `gdf` for short, is just like a pandas dataframe (`df`) but with an extra geometry column and methods & attributes that work on that column. I repeat because it's important:\n",
    "\n",
    "> `A GeoPandas GeoDataFrame is a pandas DataFrame with a geometry column and methods & attributes that work on that column.`\n",
    "\n",
    "> This means all the methods and attributes of a pandas DataFrame also work on a Geopandas GeoDataFrame!!\n",
    "\n",
    "With that in mind, let's start exploring out dataframe just like we would do in `pandas`."
   ]
  },
  {
   "cell_type": "code",
   "execution_count": 4,
   "metadata": {
    "scrolled": true
   },
   "outputs": [
    {
     "data": {
      "text/plain": [
       "(58, 59)"
      ]
     },
     "execution_count": 4,
     "metadata": {},
     "output_type": "execute_result"
    }
   ],
   "source": [
    "# Find the number of rows and columns in counties\n",
    "counties.shape"
   ]
  },
  {
   "cell_type": "code",
   "execution_count": 5,
   "metadata": {},
   "outputs": [
    {
     "data": {
      "text/html": [
       "<div>\n",
       "<style scoped>\n",
       "    .dataframe tbody tr th:only-of-type {\n",
       "        vertical-align: middle;\n",
       "    }\n",
       "\n",
       "    .dataframe tbody tr th {\n",
       "        vertical-align: top;\n",
       "    }\n",
       "\n",
       "    .dataframe thead th {\n",
       "        text-align: right;\n",
       "    }\n",
       "</style>\n",
       "<table border=\"1\" class=\"dataframe\">\n",
       "  <thead>\n",
       "    <tr style=\"text-align: right;\">\n",
       "      <th></th>\n",
       "      <th>FID_</th>\n",
       "      <th>NAME</th>\n",
       "      <th>STATE_NAME</th>\n",
       "      <th>POP2010</th>\n",
       "      <th>POP10_SQMI</th>\n",
       "      <th>POP2012</th>\n",
       "      <th>POP12_SQMI</th>\n",
       "      <th>WHITE</th>\n",
       "      <th>BLACK</th>\n",
       "      <th>AMERI_ES</th>\n",
       "      <th>...</th>\n",
       "      <th>AVG_SALE07</th>\n",
       "      <th>SQMI</th>\n",
       "      <th>CountyFIPS</th>\n",
       "      <th>NEIGHBORS</th>\n",
       "      <th>PopNeigh</th>\n",
       "      <th>NEIGHBOR_1</th>\n",
       "      <th>PopNeigh_1</th>\n",
       "      <th>NEIGHBOR_2</th>\n",
       "      <th>PopNeigh_2</th>\n",
       "      <th>geometry</th>\n",
       "    </tr>\n",
       "  </thead>\n",
       "  <tbody>\n",
       "    <tr>\n",
       "      <th>0</th>\n",
       "      <td>0</td>\n",
       "      <td>Kern</td>\n",
       "      <td>California</td>\n",
       "      <td>839631</td>\n",
       "      <td>102.9</td>\n",
       "      <td>851089</td>\n",
       "      <td>104.282870</td>\n",
       "      <td>499766</td>\n",
       "      <td>48921</td>\n",
       "      <td>12676</td>\n",
       "      <td>...</td>\n",
       "      <td>1513.53</td>\n",
       "      <td>8161.35</td>\n",
       "      <td>06103</td>\n",
       "      <td>San Bernardino,Tulare,Inyo</td>\n",
       "      <td>2495935</td>\n",
       "      <td>None</td>\n",
       "      <td>None</td>\n",
       "      <td>None</td>\n",
       "      <td>None</td>\n",
       "      <td>POLYGON ((193446.035 -244342.585, 194033.795 -...</td>\n",
       "    </tr>\n",
       "    <tr>\n",
       "      <th>1</th>\n",
       "      <td>0</td>\n",
       "      <td>Kings</td>\n",
       "      <td>California</td>\n",
       "      <td>152982</td>\n",
       "      <td>109.9</td>\n",
       "      <td>155039</td>\n",
       "      <td>111.427421</td>\n",
       "      <td>83027</td>\n",
       "      <td>11014</td>\n",
       "      <td>2562</td>\n",
       "      <td>...</td>\n",
       "      <td>1203.20</td>\n",
       "      <td>1391.39</td>\n",
       "      <td>06089</td>\n",
       "      <td>Fresno,Kern,Tulare</td>\n",
       "      <td>2212260</td>\n",
       "      <td>None</td>\n",
       "      <td>None</td>\n",
       "      <td>None</td>\n",
       "      <td>None</td>\n",
       "      <td>POLYGON ((12524.028 -179431.328, 12358.142 -17...</td>\n",
       "    </tr>\n",
       "    <tr>\n",
       "      <th>2</th>\n",
       "      <td>0</td>\n",
       "      <td>Lake</td>\n",
       "      <td>California</td>\n",
       "      <td>64665</td>\n",
       "      <td>48.6</td>\n",
       "      <td>65253</td>\n",
       "      <td>49.082334</td>\n",
       "      <td>52033</td>\n",
       "      <td>1232</td>\n",
       "      <td>2049</td>\n",
       "      <td>...</td>\n",
       "      <td>72.31</td>\n",
       "      <td>1329.46</td>\n",
       "      <td>06106</td>\n",
       "      <td>None</td>\n",
       "      <td>0</td>\n",
       "      <td>None</td>\n",
       "      <td>None</td>\n",
       "      <td>None</td>\n",
       "      <td>None</td>\n",
       "      <td>MULTIPOLYGON (((-240632.150 93056.104, -240669...</td>\n",
       "    </tr>\n",
       "    <tr>\n",
       "      <th>3</th>\n",
       "      <td>0</td>\n",
       "      <td>Lassen</td>\n",
       "      <td>California</td>\n",
       "      <td>34895</td>\n",
       "      <td>7.4</td>\n",
       "      <td>35039</td>\n",
       "      <td>7.422856</td>\n",
       "      <td>25532</td>\n",
       "      <td>2834</td>\n",
       "      <td>1234</td>\n",
       "      <td>...</td>\n",
       "      <td>120.92</td>\n",
       "      <td>4720.42</td>\n",
       "      <td>06086</td>\n",
       "      <td>None</td>\n",
       "      <td>0</td>\n",
       "      <td>None</td>\n",
       "      <td>None</td>\n",
       "      <td>None</td>\n",
       "      <td>None</td>\n",
       "      <td>POLYGON ((-45364.032 352060.633, -45248.844 35...</td>\n",
       "    </tr>\n",
       "    <tr>\n",
       "      <th>4</th>\n",
       "      <td>0</td>\n",
       "      <td>Los Angeles</td>\n",
       "      <td>California</td>\n",
       "      <td>9818605</td>\n",
       "      <td>2402.3</td>\n",
       "      <td>9904341</td>\n",
       "      <td>2423.264150</td>\n",
       "      <td>4936599</td>\n",
       "      <td>856874</td>\n",
       "      <td>72828</td>\n",
       "      <td>...</td>\n",
       "      <td>187.94</td>\n",
       "      <td>4087.19</td>\n",
       "      <td>06073</td>\n",
       "      <td>San Bernardino,Kern</td>\n",
       "      <td>2874841</td>\n",
       "      <td>None</td>\n",
       "      <td>None</td>\n",
       "      <td>None</td>\n",
       "      <td>None</td>\n",
       "      <td>MULTIPOLYGON (((173874.519 -471855.293, 173852...</td>\n",
       "    </tr>\n",
       "  </tbody>\n",
       "</table>\n",
       "<p>5 rows × 59 columns</p>\n",
       "</div>"
      ],
      "text/plain": [
       "   FID_         NAME  STATE_NAME  POP2010  POP10_SQMI  POP2012   POP12_SQMI  \\\n",
       "0     0         Kern  California   839631       102.9   851089   104.282870   \n",
       "1     0        Kings  California   152982       109.9   155039   111.427421   \n",
       "2     0         Lake  California    64665        48.6    65253    49.082334   \n",
       "3     0       Lassen  California    34895         7.4    35039     7.422856   \n",
       "4     0  Los Angeles  California  9818605      2402.3  9904341  2423.264150   \n",
       "\n",
       "     WHITE   BLACK  AMERI_ES  ...  AVG_SALE07     SQMI  CountyFIPS  \\\n",
       "0   499766   48921     12676  ...     1513.53  8161.35       06103   \n",
       "1    83027   11014      2562  ...     1203.20  1391.39       06089   \n",
       "2    52033    1232      2049  ...       72.31  1329.46       06106   \n",
       "3    25532    2834      1234  ...      120.92  4720.42       06086   \n",
       "4  4936599  856874     72828  ...      187.94  4087.19       06073   \n",
       "\n",
       "                    NEIGHBORS  PopNeigh  NEIGHBOR_1  PopNeigh_1  NEIGHBOR_2  \\\n",
       "0  San Bernardino,Tulare,Inyo   2495935        None        None        None   \n",
       "1          Fresno,Kern,Tulare   2212260        None        None        None   \n",
       "2                        None         0        None        None        None   \n",
       "3                        None         0        None        None        None   \n",
       "4         San Bernardino,Kern   2874841        None        None        None   \n",
       "\n",
       "   PopNeigh_2                                           geometry  \n",
       "0        None  POLYGON ((193446.035 -244342.585, 194033.795 -...  \n",
       "1        None  POLYGON ((12524.028 -179431.328, 12358.142 -17...  \n",
       "2        None  MULTIPOLYGON (((-240632.150 93056.104, -240669...  \n",
       "3        None  POLYGON ((-45364.032 352060.633, -45248.844 35...  \n",
       "4        None  MULTIPOLYGON (((173874.519 -471855.293, 173852...  \n",
       "\n",
       "[5 rows x 59 columns]"
      ]
     },
     "execution_count": 5,
     "metadata": {},
     "output_type": "execute_result"
    }
   ],
   "source": [
    "# Look at the first couple of rows in our geodataframe\n",
    "counties.head()"
   ]
  },
  {
   "cell_type": "code",
   "execution_count": 6,
   "metadata": {},
   "outputs": [
    {
     "data": {
      "text/plain": [
       "Index(['FID_', 'NAME', 'STATE_NAME', 'POP2010', 'POP10_SQMI', 'POP2012',\n",
       "       'POP12_SQMI', 'WHITE', 'BLACK', 'AMERI_ES', 'ASIAN', 'HAWN_PI',\n",
       "       'HISPANIC', 'OTHER', 'MULT_RACE', 'MALES', 'FEMALES', 'AGE_UNDER5',\n",
       "       'AGE_5_9', 'AGE_10_14', 'AGE_15_19', 'AGE_20_24', 'AGE_25_34',\n",
       "       'AGE_35_44', 'AGE_45_54', 'AGE_55_64', 'AGE_65_74', 'AGE_75_84',\n",
       "       'AGE_85_UP', 'MED_AGE', 'MED_AGE_M', 'MED_AGE_F', 'HOUSEHOLDS',\n",
       "       'AVE_HH_SZ', 'HSEHLD_1_M', 'HSEHLD_1_F', 'MARHH_CHD', 'MARHH_NO_C',\n",
       "       'MHH_CHILD', 'FHH_CHILD', 'FAMILIES', 'AVE_FAM_SZ', 'HSE_UNITS',\n",
       "       'VACANT', 'OWNER_OCC', 'RENTER_OCC', 'NO_FARMS07', 'AVG_SIZE07',\n",
       "       'CROP_ACR07', 'AVG_SALE07', 'SQMI', 'CountyFIPS', 'NEIGHBORS',\n",
       "       'PopNeigh', 'NEIGHBOR_1', 'PopNeigh_1', 'NEIGHBOR_2', 'PopNeigh_2',\n",
       "       'geometry'],\n",
       "      dtype='object')"
      ]
     },
     "execution_count": 6,
     "metadata": {},
     "output_type": "execute_result"
    }
   ],
   "source": [
    "# Look at all the variables included in our data\n",
    "counties.columns"
   ]
  },
  {
   "cell_type": "markdown",
   "metadata": {},
   "source": [
    "It looks like we have a good amount of information about the total population for different years and the densities, as well as race, age, and occupancy info."
   ]
  },
  {
   "cell_type": "markdown",
   "metadata": {},
   "source": [
    "## 2.4 Plot the GeoDataFrame\n",
    "\n",
    "We're able to plot our GeoDataFrame because of the extra `geometry` column.\n",
    "\n",
    "### Geopandas Geometries\n",
    "There are three main types of geometries that can be associated with your geodataframe: points, lines and polygons:\n",
    "\n",
    "<img src =\"https://datacarpentry.org/organization-geospatial/fig/dc-spatial-vector/pnt_line_poly.png\" width=\"450\"></img>\n",
    "\n",
    "In the geodataframe these geometries are encoded in a format known as [Well-Known Text (WKT)](https://en.wikipedia.org/wiki/Well-known_text_representation_of_geometry). For example:\n",
    "\n",
    "> - POINT (30 10)\n",
    "> - LINESTRING (30 10, 10 30, 40 40)\n",
    "> - POLYGON ((30 10, 40 40, 20 40, 10 20, 30 10))\n",
    ">\n",
    "> *where coordinates are separated by a space and coordinate pairs by a comma*\n",
    "\n",
    "Your geodataframe may also include the variants **multipoints, multilines, and multipolgyons** if the row-level feature of interest is comprised of multiple parts. For example, a geodataframe of states, where one row represents one state, would have a POLYGON geometry for Utah but MULTIPOLYGON for Hawaii, which includes many islands.\n",
    "\n",
    "> It's ok to mix and match geometries of the same family, e.g., POLYGON and MULTIPOLYGON, in the same geodatafame.\n",
    "\n"
   ]
  },
  {
   "cell_type": "markdown",
   "metadata": {},
   "source": [
    "\n",
    "<img src=\"http://www.pngall.com/wp-content/uploads/2016/03/Light-Bulb-Free-PNG-Image.png\" width=\"20\" align=left >  **Question** What kind of geometry would a roads geodataframe have? What about one that includes landmarks in the San Francisco Bay Area?\n",
    "\n",
    "\n"
   ]
  },
  {
   "cell_type": "raw",
   "metadata": {},
   "source": [
    "Your response here:\n",
    "\n",
    "\n",
    "\n",
    "\n"
   ]
  },
  {
   "cell_type": "markdown",
   "metadata": {},
   "source": [
    "You can check the types of geometries in a geodataframe or a subset of the geodataframe by combining the `type` and `unique` methods."
   ]
  },
  {
   "cell_type": "code",
   "execution_count": null,
   "metadata": {},
   "outputs": [],
   "source": [
    "# Let's check what geometries we have in our counties geodataframe\n",
    "counties['geometry'].head()"
   ]
  },
  {
   "cell_type": "code",
   "execution_count": null,
   "metadata": {},
   "outputs": [],
   "source": [
    "# Let's check to make sure that we only have polygons and multipolygons \n",
    "counties['geometry'].type.unique()"
   ]
  },
  {
   "cell_type": "code",
   "execution_count": null,
   "metadata": {},
   "outputs": [],
   "source": [
    "counties.plot()"
   ]
  },
  {
   "cell_type": "markdown",
   "metadata": {},
   "source": [
    "Just like with other plots you can make in Python, we can start customizing our map with colors, size, etc."
   ]
  },
  {
   "cell_type": "code",
   "execution_count": null,
   "metadata": {},
   "outputs": [],
   "source": [
    "# We can run the following line of code to get more info about the parameters we can specify:\n",
    "\n",
    "?counties.plot"
   ]
  },
  {
   "cell_type": "code",
   "execution_count": null,
   "metadata": {},
   "outputs": [],
   "source": [
    "# Make the figure size bigger\n",
    "counties.plot(figsize=(6,9))"
   ]
  },
  {
   "cell_type": "code",
   "execution_count": null,
   "metadata": {},
   "outputs": [],
   "source": [
    "counties.plot(figsize=(6,9), \n",
    "              edgecolor='grey',  # grey colored border lines\n",
    "              facecolor='pink' , # fill in our counties as pink\n",
    "              linewidth=2)       # make the linedwith a width of 2"
   ]
  },
  {
   "cell_type": "markdown",
   "metadata": {},
   "source": [
    "## 2.5 Subset the GeoDataframe\n",
    "\n",
    "Since we'll be focusing on Berkeley later in the workshop, let's subset our GeoDataFrame to just be for Alameda County."
   ]
  },
  {
   "cell_type": "code",
   "execution_count": null,
   "metadata": {},
   "outputs": [],
   "source": [
    "# See all county names included in our dataset\n",
    "counties['NAME'].values"
   ]
  },
  {
   "cell_type": "markdown",
   "metadata": {},
   "source": [
    "It looks like Alameda county is specified as \"Alameda\" in this dataset."
   ]
  },
  {
   "cell_type": "code",
   "execution_count": null,
   "metadata": {},
   "outputs": [],
   "source": [
    "counties"
   ]
  },
  {
   "cell_type": "markdown",
   "metadata": {},
   "source": [
    "Now we can create a new geodataframe called `alameda_county` that is a subset of our counties geodataframe."
   ]
  },
  {
   "cell_type": "code",
   "execution_count": null,
   "metadata": {},
   "outputs": [],
   "source": [
    "alameda_county = counties.loc[counties['NAME'] == 'Alameda'].copy().reset_index(drop=True)"
   ]
  },
  {
   "cell_type": "code",
   "execution_count": null,
   "metadata": {},
   "outputs": [],
   "source": [
    "# Plot our newly subsetted geodataframe\n",
    "alameda_county.plot()"
   ]
  },
  {
   "cell_type": "markdown",
   "metadata": {},
   "source": [
    "Nice! Looks like we have what we were looking for.\n",
    "\n",
    "*FYI*: You can also make dynamic plots of one or more county without saving to a new gdf."
   ]
  },
  {
   "cell_type": "code",
   "execution_count": null,
   "metadata": {},
   "outputs": [],
   "source": [
    "bay_area_counties = ['Alameda', 'Contra Costa', 'Marin', 'Napa', 'San Francisco', \n",
    "                        'San Mateo', 'Santa Clara', 'Santa Cruz', 'Solano', 'Sonoma']\n",
    "counties.loc[counties['NAME'].isin(bay_area_counties)].plot()\n"
   ]
  },
  {
   "cell_type": "markdown",
   "metadata": {},
   "source": [
    "## 2.6 Save your Data"
   ]
  },
  {
   "cell_type": "markdown",
   "metadata": {},
   "source": [
    "Let's not forget to save out our Alameda County geodataframe `alameda_county`. This way we won't need to repeat the processing steps and attribute join we did above.\n",
    "\n",
    "We can save it as a shapefile."
   ]
  },
  {
   "cell_type": "code",
   "execution_count": null,
   "metadata": {},
   "outputs": [],
   "source": [
    "alameda_county.to_file(\"outdata/alameda_county.shp\")"
   ]
  },
  {
   "cell_type": "markdown",
   "metadata": {},
   "source": [
    "One of the problems of saving to a shapefile is that our column names get truncated to 10 characters (a shapefile limitation.) \n",
    "\n",
    "Instead of renaming all columns with obscure names that are less than 10 characters, we can save our GeoDataFrame to a spatial data file format that does not have this limation - [GeoJSON](https://en.wikipedia.org/wiki/GeoJSON) or [GPKG](https://en.wikipedia.org/wiki/GeoPackage) (geopackage) file.\n",
    "- These formats have the added benefit of outputting only one file in contrast tothe multi-file shapefile format."
   ]
  },
  {
   "cell_type": "code",
   "execution_count": null,
   "metadata": {},
   "outputs": [],
   "source": [
    "alameda_county.to_file(\"outdata/alameda_county.json\", driver=\"GeoJSON\")"
   ]
  },
  {
   "cell_type": "code",
   "execution_count": null,
   "metadata": {},
   "outputs": [],
   "source": [
    "alameda_county.to_file(\"outdata/alameda_county.gpkg\", driver=\"GPKG\")"
   ]
  },
  {
   "cell_type": "markdown",
   "metadata": {},
   "source": [
    "You can read these in, just as you would a shapefile with `gpd.read_file`"
   ]
  },
  {
   "cell_type": "code",
   "execution_count": null,
   "metadata": {},
   "outputs": [],
   "source": [
    "alameda_county_test = gpd.read_file(\"outdata/alameda_county.gpkg\")\n",
    "alameda_county_test.plot()"
   ]
  },
  {
   "cell_type": "code",
   "execution_count": null,
   "metadata": {},
   "outputs": [],
   "source": [
    "alameda_county_test2 = gpd.read_file(\"outdata/alameda_county.json\")\n",
    "alameda_county_test2.plot()"
   ]
  },
  {
   "cell_type": "markdown",
   "metadata": {},
   "source": [
    "There are also many other formats we could use for data output.\n",
    "\n",
    "**NOTE**: If you're working with point data (i.e. a single latitude and longitude value per feature),\n",
    "then CSV might be a good option!"
   ]
  },
  {
   "cell_type": "markdown",
   "metadata": {},
   "source": [
    "## 2.7 Recap\n",
    "\n",
    "In this lesson we learned about...\n",
    "- The `geopandas` package \n",
    "- Reading in shapefiles \n",
    "    - `gpd.read_file`\n",
    "- GeoDataFrame structures\n",
    "    - `shape`, `head`, `columns`\n",
    "- Plotting GeoDataFrames\n",
    "    - `plot`\n",
    "- Subsetting GeoDatFrames\n",
    "    - `loc`\n",
    "- Saving out GeoDataFrames\n",
    "    - `to_file`"
   ]
  },
  {
   "cell_type": "markdown",
   "metadata": {},
   "source": [
    "## Exercise: IO, Manipulation, and Mapping\n",
    "\n",
    "Now you'll get a chance to practice the operations we learned above.\n",
    "\n",
    "In the following cell, compose code to:\n",
    "\n",
    "1. Read in the California places data (`notebook_data/census/Places/cb_2019_06_place_500k.zip`)\n",
    "2. Subset the data to Berkeley\n",
    "3. Plot, and customize as desired\n",
    "4. Save out as a shapefile (`outdata/berkeley_places.shp`)\n",
    "\n",
    "\n",
    "*Note: pulling in a zipped shapefile has the same syntax as just pulling in a shapefile. The only difference is that insead of just putting in the filepath you'll want to write `zip://notebook_data/census/Places/cb_2019_06_place_500k.zip`*\n",
    "\n",
    "To see the solution, double-click the Markdown cell below."
   ]
  },
  {
   "cell_type": "code",
   "execution_count": null,
   "metadata": {},
   "outputs": [],
   "source": [
    "# YOUR CODE HERE\n",
    "\n"
   ]
  },
  {
   "cell_type": "markdown",
   "metadata": {},
   "source": [
    "## Double-click to see solution!\n",
    "\n",
    "<!--\n",
    "# SOLUTION\n",
    "\n",
    "# 1. Read in the California places data \n",
    "california_places = gpd.read_file('zip://notebook_data/census/Places/cb_2018_06_place_500k.zip')\n",
    "california_places.head()\n",
    "\n",
    "# 2. Subset the data to Berkeley\n",
    "berkeley_places = california_places.loc[california_places['NAME']=='Berkeley'].copy().reset_index(drop=True)\n",
    "\n",
    "# 3. Plot and customize\n",
    "berkeley_places.plot(edgecolor='grey', color='lightgreen')\n",
    "\n",
    "# 4. Save to a shapefile\n",
    "berkeley_places.to_file(\"outdata/berkeley_places.shp\")\n",
    "\n",
    "-->"
   ]
  },
  {
   "cell_type": "markdown",
   "metadata": {},
   "source": [
    "---\n",
    "<div style=\"display:inline-block;vertical-align:middle;\">\n",
    "<a href=\"https://dlab.berkeley.edu/\" target=\"_blank\"><img src =\"assets/images/dlab_logo.png\" width=\"75\" align=\"left\">\n",
    "</a>\n",
    "</div>\n",
    "\n",
    "<div style=\"display:inline-block;vertical-align:middle;\">\n",
    "    <div style=\"font-size:larger\">&nbsp;D-Lab @ University of California - Berkeley</div>\n",
    "    <div>&nbsp;Team Geo<div>\n",
    "</div>\n",
    "        \n",
    "\n"
   ]
  }
 ],
 "metadata": {
  "kernelspec": {
   "display_name": "Python 3",
   "language": "python",
   "name": "python3"
  },
  "language_info": {
   "codemirror_mode": {
    "name": "ipython",
    "version": 3
   },
   "file_extension": ".py",
   "mimetype": "text/x-python",
   "name": "python",
   "nbconvert_exporter": "python",
   "pygments_lexer": "ipython3",
   "version": "3.9.5"
  }
 },
 "nbformat": 4,
 "nbformat_minor": 4
}
