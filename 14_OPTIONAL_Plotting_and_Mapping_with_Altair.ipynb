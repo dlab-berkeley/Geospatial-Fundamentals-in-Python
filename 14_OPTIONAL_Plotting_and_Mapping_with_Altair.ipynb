{
 "cells": [
  {
   "cell_type": "markdown",
   "metadata": {},
   "source": [
    "# 14. Making Plots and Maps with Altair\n",
    "\n",
    "The Python Altair library is great because it works with both pandas dataframes and geopandas geodataframes. It allows you to create all kinds of plots and also to make makes. Moreover the plots can be linked to the maps (but not vice versa) so that selecting data on the plot in turn highlights the geographies for related areas. We demonstrate this below with census data.\n",
    "\n",
    "This is powerful because you can do all this with just one Python library - instead of learning one for plotting and one for mapping.  You can do this with matplotlib as well but the Altair syntax is a bit less complex.\n",
    "\n",
    "\n",
    "For more information see the Altair [website](https://altair-viz.github.io/).\n",
    "\n",
    "<br>\n",
    "<font color='grey'>\n",
    "    \n",
    "**Instructor Notes**\n",
    "\n",
    "Datasets used\n",
    "  - American Community Survey (ACS) 2014–2018 data by census tract for California ('notebook_data/census/ACS5yr/census_variables_CA_2018.csv')\n",
    "  - California places cartographic [boundaries](https://www2.census.gov/geo/tiger/GENZ2019/shp/cb_2019_06_place_500k.zip) for 2019 from the United States Census Bureau ('notebook_data/census/ACS5yr/census_variables_CA_2018.csv')\n",
    "    \n",
    "</font>"
   ]
  },
  {
   "cell_type": "code",
   "execution_count": null,
   "metadata": {},
   "outputs": [],
   "source": [
    "#Import libraries including altair\n",
    "import numpy as np\n",
    "import pandas as pd\n",
    "import altair as alt"
   ]
  },
  {
   "cell_type": "code",
   "execution_count": null,
   "metadata": {},
   "outputs": [],
   "source": [
    "# Uncomment & Install or Upgrade geopandas if necessary\n",
    "#!pip install GeoPandas==0.8.2"
   ]
  },
  {
   "cell_type": "code",
   "execution_count": null,
   "metadata": {},
   "outputs": [],
   "source": [
    "import geopandas as gpd"
   ]
  },
  {
   "cell_type": "code",
   "execution_count": null,
   "metadata": {},
   "outputs": [],
   "source": [
    "!ls notebook_data/census/ACS5yr/"
   ]
  },
  {
   "cell_type": "markdown",
   "metadata": {},
   "source": [
    "## Load ACS 5 year (2014–2018) data"
   ]
  },
  {
   "cell_type": "code",
   "execution_count": null,
   "metadata": {},
   "outputs": [],
   "source": [
    "df = pd.read_csv(\"notebook_data/census/ACS5yr/census_variables_CA_2018.csv\", dtype={'FIPS_11_digit':str})"
   ]
  },
  {
   "cell_type": "code",
   "execution_count": null,
   "metadata": {},
   "outputs": [],
   "source": [
    "# Take a look at the data\n",
    "df.head()"
   ]
  },
  {
   "cell_type": "code",
   "execution_count": null,
   "metadata": {},
   "outputs": [],
   "source": [
    "# See what columns we have complete data for (no nulls) and what the datatypes are\n",
    "df.info()"
   ]
  },
  {
   "cell_type": "markdown",
   "metadata": {},
   "source": [
    "## Subset the data so we are only looking at Alameda County (FIPS code == 1)"
   ]
  },
  {
   "cell_type": "code",
   "execution_count": null,
   "metadata": {},
   "outputs": [],
   "source": [
    "df2 = df[df.county_fips==1]"
   ]
  },
  {
   "cell_type": "code",
   "execution_count": null,
   "metadata": {
    "scrolled": true
   },
   "outputs": [],
   "source": [
    "df2.head(2)"
   ]
  },
  {
   "cell_type": "markdown",
   "metadata": {},
   "source": [
    "## Make an Altair scatter plot \n",
    "\n",
    "that visualizes the relationship between median household income and the percent of households that are owner-occupied.\n"
   ]
  },
  {
   "cell_type": "code",
   "execution_count": null,
   "metadata": {
    "scrolled": false
   },
   "outputs": [],
   "source": [
    "alt.Chart(df2).mark_circle(size=50).encode(\n",
    "   x='med_hhinc',\n",
    "   y='p_owners'\n",
    ").properties(\n",
    "   height=350, width=500\n",
    ")"
   ]
  },
  {
   "cell_type": "code",
   "execution_count": null,
   "metadata": {},
   "outputs": [],
   "source": [
    "df2.shape"
   ]
  },
  {
   "cell_type": "code",
   "execution_count": null,
   "metadata": {},
   "outputs": [],
   "source": [
    "!ls notebook_data/census/Tracts"
   ]
  },
  {
   "cell_type": "markdown",
   "metadata": {},
   "source": [
    "## Read in the Census Tract geographic data\n",
    "\n",
    "into a GeoPandas GeoDataFrame"
   ]
  },
  {
   "cell_type": "code",
   "execution_count": null,
   "metadata": {},
   "outputs": [],
   "source": [
    "tracts = gpd.read_file('zip://./notebook_data/census/Tracts/cb_2018_06_tract_500k.zip')"
   ]
  },
  {
   "cell_type": "code",
   "execution_count": null,
   "metadata": {},
   "outputs": [],
   "source": [
    "tracts.head(2)"
   ]
  },
  {
   "cell_type": "code",
   "execution_count": null,
   "metadata": {},
   "outputs": [],
   "source": [
    "tracts.plot()"
   ]
  },
  {
   "cell_type": "markdown",
   "metadata": {},
   "source": [
    "## Subset to keep only the tracts for Alameda County"
   ]
  },
  {
   "cell_type": "code",
   "execution_count": null,
   "metadata": {},
   "outputs": [],
   "source": [
    "tracts=tracts[tracts.COUNTYFP=='001']"
   ]
  },
  {
   "cell_type": "code",
   "execution_count": null,
   "metadata": {},
   "outputs": [],
   "source": [
    "tracts.plot()"
   ]
  },
  {
   "cell_type": "markdown",
   "metadata": {},
   "source": [
    "## Merge the ACS dataframe into the census tracts geodataframe"
   ]
  },
  {
   "cell_type": "code",
   "execution_count": null,
   "metadata": {},
   "outputs": [],
   "source": [
    "tracts2 = tracts.merge(df2, how='left', left_on=\"GEOID\", right_on=\"FIPS_11_digit\")"
   ]
  },
  {
   "cell_type": "code",
   "execution_count": null,
   "metadata": {},
   "outputs": [],
   "source": [
    "tracts2.head(2)"
   ]
  },
  {
   "cell_type": "markdown",
   "metadata": {},
   "source": [
    "## Create a Thematic Map\n",
    "\n",
    "Use the Geopandas Plot method to create a map of tracts colored by median household income values."
   ]
  },
  {
   "cell_type": "code",
   "execution_count": null,
   "metadata": {},
   "outputs": [],
   "source": [
    "tracts2.plot(column='med_hhinc', legend=True)"
   ]
  },
  {
   "cell_type": "markdown",
   "metadata": {},
   "source": [
    "## Make the same map with Altair"
   ]
  },
  {
   "cell_type": "code",
   "execution_count": null,
   "metadata": {
    "scrolled": true
   },
   "outputs": [],
   "source": [
    "alt.Chart(tracts2).mark_geoshape().encode(\n",
    "    color='med_hhinc'\n",
    ").properties(\n",
    "    width=500,\n",
    "    height=300\n",
    ")"
   ]
  },
  {
   "cell_type": "markdown",
   "metadata": {},
   "source": [
    "## Link Altair Scatterplot and Map"
   ]
  },
  {
   "cell_type": "code",
   "execution_count": null,
   "metadata": {},
   "outputs": [],
   "source": [
    "# First create a selection object\n",
    "my_selection = alt.selection_interval()\n",
    "\n",
    "# Create a background map\n",
    "background_map = alt.Chart(tracts2).mark_geoshape(\n",
    "    fill= 'lightgray',\n",
    "    stroke = 'white'\n",
    ").properties(\n",
    "    width=400,\n",
    "    height=300\n",
    ")\n",
    "\n",
    "# Create the interactive scatterplot\n",
    "# by addng the selection object\n",
    "the_scatterplot = alt.Chart(tracts2).mark_circle(size=50).encode(\n",
    "   x='med_hhinc',\n",
    "   y='p_owners'\n",
    ").properties(\n",
    "   width=375,\n",
    "   height=300\n",
    ").add_selection(\n",
    "    my_selection\n",
    ")\n",
    "\n",
    "# Create the interactive map\n",
    "# by adding the selection object\n",
    "income_map = alt.Chart(tracts2).mark_geoshape().encode(\n",
    "    color='med_hhinc'\n",
    ").properties(\n",
    "    width=400,\n",
    "    height=350\n",
    ").transform_filter(\n",
    "    my_selection\n",
    ")\n",
    "\n",
    "# Link the maps (background_map and income_map)\n",
    "# to the scatterplot (the_scatterplot)\n",
    "the_scatterplot | (background_map + income_map)"
   ]
  },
  {
   "cell_type": "markdown",
   "metadata": {},
   "source": [
    "## Try dragging a box around a subset of the points on the scatterplot and see what happens to the map."
   ]
  },
  {
   "cell_type": "code",
   "execution_count": null,
   "metadata": {},
   "outputs": [],
   "source": []
  }
 ],
 "metadata": {
  "kernelspec": {
   "display_name": "Python 3",
   "language": "python",
   "name": "python3"
  },
  "language_info": {
   "codemirror_mode": {
    "name": "ipython",
    "version": 3
   },
   "file_extension": ".py",
   "mimetype": "text/x-python",
   "name": "python",
   "nbconvert_exporter": "python",
   "pygments_lexer": "ipython3",
   "version": "3.9.5"
  }
 },
 "nbformat": 4,
 "nbformat_minor": 4
}
